{
 "cells": [
  {
   "cell_type": "code",
   "execution_count": 2,
   "id": "a0098a97-9c6e-4454-bef1-92eb8cf095fc",
   "metadata": {},
   "outputs": [
    {
     "data": {
      "text/html": [
       "<h2 style='color:#A8E1D4;'>ClissoldParkHackney</h2>"
      ],
      "text/plain": [
       "<IPython.core.display.HTML object>"
      ]
     },
     "metadata": {},
     "output_type": "display_data"
    },
    {
     "data": {
      "text/html": [
       "<table style='border-collapse: collapse; width: 100%;'><thead><tr><th style='border: 1px solid #ddd; padding: 8px;'>Time Slot</th><th style='border: 1px solid #ddd; padding: 8px;'>2024-10-11</th><th style='border: 1px solid #ddd; padding: 8px;'>2024-10-12</th><th style='border: 1px solid #ddd; padding: 8px;'>2024-10-13</th><th style='border: 1px solid #ddd; padding: 8px;'>2024-10-14</th><th style='border: 1px solid #ddd; padding: 8px;'>2024-10-15</th><th style='border: 1px solid #ddd; padding: 8px;'>2024-10-16</th><th style='border: 1px solid #ddd; padding: 8px;'>2024-10-17</th></tr></thead><tbody><tr><td style='border: 1px solid #ddd; padding: 8px;'>08:00</td><td style='border: 1px solid #ddd; padding: 8px;'></td><td style='border: 1px solid #ddd; padding: 8px;'></td><td style='border: 1px solid #ddd; padding: 8px;'></td><td style='border: 1px solid #ddd; padding: 8px;'><a href=\"https://clubspark.lta.org.uk/ClissoldParkHackney/Booking/BookByDate#?date=2024-10-14&role=guest\" target=\"_blank\">£3.65</a></td><td style='border: 1px solid #ddd; padding: 8px;'><a href=\"https://clubspark.lta.org.uk/ClissoldParkHackney/Booking/BookByDate#?date=2024-10-15&role=guest\" target=\"_blank\">£3.65</a></td><td style='border: 1px solid #ddd; padding: 8px;'></td><td style='border: 1px solid #ddd; padding: 8px;'><a href=\"https://clubspark.lta.org.uk/ClissoldParkHackney/Booking/BookByDate#?date=2024-10-17&role=guest\" target=\"_blank\">£3.65</a></td></tr><tr><td style='border: 1px solid #ddd; padding: 8px;'>09:00</td><td style='border: 1px solid #ddd; padding: 8px;'></td><td style='border: 1px solid #ddd; padding: 8px;'></td><td style='border: 1px solid #ddd; padding: 8px;'></td><td style='border: 1px solid #ddd; padding: 8px;'><a href=\"https://clubspark.lta.org.uk/ClissoldParkHackney/Booking/BookByDate#?date=2024-10-14&role=guest\" target=\"_blank\">£3.65</a></td><td style='border: 1px solid #ddd; padding: 8px;'><a href=\"https://clubspark.lta.org.uk/ClissoldParkHackney/Booking/BookByDate#?date=2024-10-15&role=guest\" target=\"_blank\">£3.65</a></td><td style='border: 1px solid #ddd; padding: 8px;'><a href=\"https://clubspark.lta.org.uk/ClissoldParkHackney/Booking/BookByDate#?date=2024-10-16&role=guest\" target=\"_blank\">£3.65</a></td><td style='border: 1px solid #ddd; padding: 8px;'><a href=\"https://clubspark.lta.org.uk/ClissoldParkHackney/Booking/BookByDate#?date=2024-10-17&role=guest\" target=\"_blank\">£3.65</a></td></tr><tr><td style='border: 1px solid #ddd; padding: 8px;'>10:00</td><td style='border: 1px solid #ddd; padding: 8px;'></td><td style='border: 1px solid #ddd; padding: 8px;'></td><td style='border: 1px solid #ddd; padding: 8px;'></td><td style='border: 1px solid #ddd; padding: 8px;'></td><td style='border: 1px solid #ddd; padding: 8px;'></td><td style='border: 1px solid #ddd; padding: 8px;'><a href=\"https://clubspark.lta.org.uk/ClissoldParkHackney/Booking/BookByDate#?date=2024-10-16&role=guest\" target=\"_blank\">£4.90</a></td><td style='border: 1px solid #ddd; padding: 8px;'><a href=\"https://clubspark.lta.org.uk/ClissoldParkHackney/Booking/BookByDate#?date=2024-10-17&role=guest\" target=\"_blank\">£4.90</a></td></tr><tr><td style='border: 1px solid #ddd; padding: 8px;'>11:00</td><td style='border: 1px solid #ddd; padding: 8px;'></td><td style='border: 1px solid #ddd; padding: 8px;'></td><td style='border: 1px solid #ddd; padding: 8px;'></td><td style='border: 1px solid #ddd; padding: 8px;'><a href=\"https://clubspark.lta.org.uk/ClissoldParkHackney/Booking/BookByDate#?date=2024-10-14&role=guest\" target=\"_blank\">£4.90</a></td><td style='border: 1px solid #ddd; padding: 8px;'><a href=\"https://clubspark.lta.org.uk/ClissoldParkHackney/Booking/BookByDate#?date=2024-10-15&role=guest\" target=\"_blank\">£4.90</a></td><td style='border: 1px solid #ddd; padding: 8px;'><a href=\"https://clubspark.lta.org.uk/ClissoldParkHackney/Booking/BookByDate#?date=2024-10-16&role=guest\" target=\"_blank\">£4.90</a></td><td style='border: 1px solid #ddd; padding: 8px;'><a href=\"https://clubspark.lta.org.uk/ClissoldParkHackney/Booking/BookByDate#?date=2024-10-17&role=guest\" target=\"_blank\">£4.90</a></td></tr><tr><td style='border: 1px solid #ddd; padding: 8px;'>12:00</td><td style='border: 1px solid #ddd; padding: 8px;'></td><td style='border: 1px solid #ddd; padding: 8px;'></td><td style='border: 1px solid #ddd; padding: 8px;'></td><td style='border: 1px solid #ddd; padding: 8px;'></td><td style='border: 1px solid #ddd; padding: 8px;'></td><td style='border: 1px solid #ddd; padding: 8px;'><a href=\"https://clubspark.lta.org.uk/ClissoldParkHackney/Booking/BookByDate#?date=2024-10-16&role=guest\" target=\"_blank\">£4.90</a></td><td style='border: 1px solid #ddd; padding: 8px;'><a href=\"https://clubspark.lta.org.uk/ClissoldParkHackney/Booking/BookByDate#?date=2024-10-17&role=guest\" target=\"_blank\">£4.90</a></td></tr><tr><td style='border: 1px solid #ddd; padding: 8px;'>13:00</td><td style='border: 1px solid #ddd; padding: 8px;'></td><td style='border: 1px solid #ddd; padding: 8px;'></td><td style='border: 1px solid #ddd; padding: 8px;'></td><td style='border: 1px solid #ddd; padding: 8px;'></td><td style='border: 1px solid #ddd; padding: 8px;'><a href=\"https://clubspark.lta.org.uk/ClissoldParkHackney/Booking/BookByDate#?date=2024-10-15&role=guest\" target=\"_blank\">£4.90</a></td><td style='border: 1px solid #ddd; padding: 8px;'></td><td style='border: 1px solid #ddd; padding: 8px;'><a href=\"https://clubspark.lta.org.uk/ClissoldParkHackney/Booking/BookByDate#?date=2024-10-17&role=guest\" target=\"_blank\">£4.90</a></td></tr><tr><td style='border: 1px solid #ddd; padding: 8px;'>14:00</td><td style='border: 1px solid #ddd; padding: 8px;'><a href=\"https://clubspark.lta.org.uk/ClissoldParkHackney/Booking/BookByDate#?date=2024-10-11&role=guest\" target=\"_blank\">£4.90</a></td><td style='border: 1px solid #ddd; padding: 8px;'></td><td style='border: 1px solid #ddd; padding: 8px;'></td><td style='border: 1px solid #ddd; padding: 8px;'></td><td style='border: 1px solid #ddd; padding: 8px;'><a href=\"https://clubspark.lta.org.uk/ClissoldParkHackney/Booking/BookByDate#?date=2024-10-15&role=guest\" target=\"_blank\">£4.90</a></td><td style='border: 1px solid #ddd; padding: 8px;'><a href=\"https://clubspark.lta.org.uk/ClissoldParkHackney/Booking/BookByDate#?date=2024-10-16&role=guest\" target=\"_blank\">£4.90</a></td><td style='border: 1px solid #ddd; padding: 8px;'><a href=\"https://clubspark.lta.org.uk/ClissoldParkHackney/Booking/BookByDate#?date=2024-10-17&role=guest\" target=\"_blank\">£4.90</a></td></tr><tr><td style='border: 1px solid #ddd; padding: 8px;'>15:00</td><td style='border: 1px solid #ddd; padding: 8px;'></td><td style='border: 1px solid #ddd; padding: 8px;'></td><td style='border: 1px solid #ddd; padding: 8px;'></td><td style='border: 1px solid #ddd; padding: 8px;'><a href=\"https://clubspark.lta.org.uk/ClissoldParkHackney/Booking/BookByDate#?date=2024-10-14&role=guest\" target=\"_blank\">£4.90</a></td><td style='border: 1px solid #ddd; padding: 8px;'><a href=\"https://clubspark.lta.org.uk/ClissoldParkHackney/Booking/BookByDate#?date=2024-10-15&role=guest\" target=\"_blank\">£4.90</a></td><td style='border: 1px solid #ddd; padding: 8px;'><a href=\"https://clubspark.lta.org.uk/ClissoldParkHackney/Booking/BookByDate#?date=2024-10-16&role=guest\" target=\"_blank\">£4.90</a></td><td style='border: 1px solid #ddd; padding: 8px;'><a href=\"https://clubspark.lta.org.uk/ClissoldParkHackney/Booking/BookByDate#?date=2024-10-17&role=guest\" target=\"_blank\">£4.90</a></td></tr><tr><td style='border: 1px solid #ddd; padding: 8px;'>18:00</td><td style='border: 1px solid #ddd; padding: 8px;'><a href=\"https://clubspark.lta.org.uk/ClissoldParkHackney/Booking/BookByDate#?date=2024-10-11&role=guest\" target=\"_blank\">£12.65</a></td><td style='border: 1px solid #ddd; padding: 8px;'></td><td style='border: 1px solid #ddd; padding: 8px;'></td><td style='border: 1px solid #ddd; padding: 8px;'></td><td style='border: 1px solid #ddd; padding: 8px;'></td><td style='border: 1px solid #ddd; padding: 8px;'></td><td style='border: 1px solid #ddd; padding: 8px;'></td></tr><tr><td style='border: 1px solid #ddd; padding: 8px;'>19:00</td><td style='border: 1px solid #ddd; padding: 8px;'><a href=\"https://clubspark.lta.org.uk/ClissoldParkHackney/Booking/BookByDate#?date=2024-10-11&role=guest\" target=\"_blank\">£12.65</a></td><td style='border: 1px solid #ddd; padding: 8px;'></td><td style='border: 1px solid #ddd; padding: 8px;'></td><td style='border: 1px solid #ddd; padding: 8px;'></td><td style='border: 1px solid #ddd; padding: 8px;'></td><td style='border: 1px solid #ddd; padding: 8px;'></td><td style='border: 1px solid #ddd; padding: 8px;'></td></tr></tbody></table>"
      ],
      "text/plain": [
       "<IPython.core.display.HTML object>"
      ]
     },
     "metadata": {},
     "output_type": "display_data"
    },
    {
     "data": {
      "text/html": [
       "<h2 style='color:#A8E1D4;'>HackneyDowns</h2>"
      ],
      "text/plain": [
       "<IPython.core.display.HTML object>"
      ]
     },
     "metadata": {},
     "output_type": "display_data"
    },
    {
     "data": {
      "text/html": [
       "<table style='border-collapse: collapse; width: 100%;'><thead><tr><th style='border: 1px solid #ddd; padding: 8px;'>Time Slot</th><th style='border: 1px solid #ddd; padding: 8px;'>2024-10-11</th><th style='border: 1px solid #ddd; padding: 8px;'>2024-10-12</th><th style='border: 1px solid #ddd; padding: 8px;'>2024-10-13</th><th style='border: 1px solid #ddd; padding: 8px;'>2024-10-14</th><th style='border: 1px solid #ddd; padding: 8px;'>2024-10-15</th><th style='border: 1px solid #ddd; padding: 8px;'>2024-10-16</th><th style='border: 1px solid #ddd; padding: 8px;'>2024-10-17</th></tr></thead><tbody><tr><td style='border: 1px solid #ddd; padding: 8px;'>07:00</td><td style='border: 1px solid #ddd; padding: 8px;'></td><td style='border: 1px solid #ddd; padding: 8px;'><a href=\"https://clubspark.lta.org.uk/HackneyDowns/Booking/BookByDate#?date=2024-10-12&role=guest\" target=\"_blank\">£3.65</a></td><td style='border: 1px solid #ddd; padding: 8px;'><a href=\"https://clubspark.lta.org.uk/HackneyDowns/Booking/BookByDate#?date=2024-10-13&role=guest\" target=\"_blank\">£3.65</a></td><td style='border: 1px solid #ddd; padding: 8px;'><a href=\"https://clubspark.lta.org.uk/HackneyDowns/Booking/BookByDate#?date=2024-10-14&role=guest\" target=\"_blank\">£3.65</a></td><td style='border: 1px solid #ddd; padding: 8px;'><a href=\"https://clubspark.lta.org.uk/HackneyDowns/Booking/BookByDate#?date=2024-10-15&role=guest\" target=\"_blank\">£3.65</a></td><td style='border: 1px solid #ddd; padding: 8px;'><a href=\"https://clubspark.lta.org.uk/HackneyDowns/Booking/BookByDate#?date=2024-10-16&role=guest\" target=\"_blank\">£3.65</a></td><td style='border: 1px solid #ddd; padding: 8px;'><a href=\"https://clubspark.lta.org.uk/HackneyDowns/Booking/BookByDate#?date=2024-10-17&role=guest\" target=\"_blank\">£3.65</a></td></tr><tr><td style='border: 1px solid #ddd; padding: 8px;'>08:00</td><td style='border: 1px solid #ddd; padding: 8px;'></td><td style='border: 1px solid #ddd; padding: 8px;'></td><td style='border: 1px solid #ddd; padding: 8px;'></td><td style='border: 1px solid #ddd; padding: 8px;'></td><td style='border: 1px solid #ddd; padding: 8px;'></td><td style='border: 1px solid #ddd; padding: 8px;'></td><td style='border: 1px solid #ddd; padding: 8px;'><a href=\"https://clubspark.lta.org.uk/HackneyDowns/Booking/BookByDate#?date=2024-10-17&role=guest\" target=\"_blank\">£3.65</a></td></tr><tr><td style='border: 1px solid #ddd; padding: 8px;'>09:00</td><td style='border: 1px solid #ddd; padding: 8px;'></td><td style='border: 1px solid #ddd; padding: 8px;'></td><td style='border: 1px solid #ddd; padding: 8px;'></td><td style='border: 1px solid #ddd; padding: 8px;'><a href=\"https://clubspark.lta.org.uk/HackneyDowns/Booking/BookByDate#?date=2024-10-14&role=guest\" target=\"_blank\">£3.65</a></td><td style='border: 1px solid #ddd; padding: 8px;'><a href=\"https://clubspark.lta.org.uk/HackneyDowns/Booking/BookByDate#?date=2024-10-15&role=guest\" target=\"_blank\">£3.65</a></td><td style='border: 1px solid #ddd; padding: 8px;'><a href=\"https://clubspark.lta.org.uk/HackneyDowns/Booking/BookByDate#?date=2024-10-16&role=guest\" target=\"_blank\">£3.65</a></td><td style='border: 1px solid #ddd; padding: 8px;'><a href=\"https://clubspark.lta.org.uk/HackneyDowns/Booking/BookByDate#?date=2024-10-17&role=guest\" target=\"_blank\">£3.65</a></td></tr><tr><td style='border: 1px solid #ddd; padding: 8px;'>10:00</td><td style='border: 1px solid #ddd; padding: 8px;'></td><td style='border: 1px solid #ddd; padding: 8px;'></td><td style='border: 1px solid #ddd; padding: 8px;'></td><td style='border: 1px solid #ddd; padding: 8px;'><a href=\"https://clubspark.lta.org.uk/HackneyDowns/Booking/BookByDate#?date=2024-10-14&role=guest\" target=\"_blank\">£4.90</a></td><td style='border: 1px solid #ddd; padding: 8px;'></td><td style='border: 1px solid #ddd; padding: 8px;'><a href=\"https://clubspark.lta.org.uk/HackneyDowns/Booking/BookByDate#?date=2024-10-16&role=guest\" target=\"_blank\">£4.90</a></td><td style='border: 1px solid #ddd; padding: 8px;'><a href=\"https://clubspark.lta.org.uk/HackneyDowns/Booking/BookByDate#?date=2024-10-17&role=guest\" target=\"_blank\">£4.90</a></td></tr><tr><td style='border: 1px solid #ddd; padding: 8px;'>11:00</td><td style='border: 1px solid #ddd; padding: 8px;'></td><td style='border: 1px solid #ddd; padding: 8px;'></td><td style='border: 1px solid #ddd; padding: 8px;'></td><td style='border: 1px solid #ddd; padding: 8px;'><a href=\"https://clubspark.lta.org.uk/HackneyDowns/Booking/BookByDate#?date=2024-10-14&role=guest\" target=\"_blank\">£4.90</a></td><td style='border: 1px solid #ddd; padding: 8px;'></td><td style='border: 1px solid #ddd; padding: 8px;'><a href=\"https://clubspark.lta.org.uk/HackneyDowns/Booking/BookByDate#?date=2024-10-16&role=guest\" target=\"_blank\">£4.90</a></td><td style='border: 1px solid #ddd; padding: 8px;'></td></tr><tr><td style='border: 1px solid #ddd; padding: 8px;'>12:00</td><td style='border: 1px solid #ddd; padding: 8px;'></td><td style='border: 1px solid #ddd; padding: 8px;'></td><td style='border: 1px solid #ddd; padding: 8px;'></td><td style='border: 1px solid #ddd; padding: 8px;'><a href=\"https://clubspark.lta.org.uk/HackneyDowns/Booking/BookByDate#?date=2024-10-14&role=guest\" target=\"_blank\">£4.90</a></td><td style='border: 1px solid #ddd; padding: 8px;'></td><td style='border: 1px solid #ddd; padding: 8px;'></td><td style='border: 1px solid #ddd; padding: 8px;'><a href=\"https://clubspark.lta.org.uk/HackneyDowns/Booking/BookByDate#?date=2024-10-17&role=guest\" target=\"_blank\">£4.90</a></td></tr><tr><td style='border: 1px solid #ddd; padding: 8px;'>13:00</td><td style='border: 1px solid #ddd; padding: 8px;'></td><td style='border: 1px solid #ddd; padding: 8px;'></td><td style='border: 1px solid #ddd; padding: 8px;'></td><td style='border: 1px solid #ddd; padding: 8px;'><a href=\"https://clubspark.lta.org.uk/HackneyDowns/Booking/BookByDate#?date=2024-10-14&role=guest\" target=\"_blank\">£4.90</a></td><td style='border: 1px solid #ddd; padding: 8px;'></td><td style='border: 1px solid #ddd; padding: 8px;'><a href=\"https://clubspark.lta.org.uk/HackneyDowns/Booking/BookByDate#?date=2024-10-16&role=guest\" target=\"_blank\">£4.90</a></td><td style='border: 1px solid #ddd; padding: 8px;'><a href=\"https://clubspark.lta.org.uk/HackneyDowns/Booking/BookByDate#?date=2024-10-17&role=guest\" target=\"_blank\">£4.90</a></td></tr><tr><td style='border: 1px solid #ddd; padding: 8px;'>14:00</td><td style='border: 1px solid #ddd; padding: 8px;'></td><td style='border: 1px solid #ddd; padding: 8px;'></td><td style='border: 1px solid #ddd; padding: 8px;'></td><td style='border: 1px solid #ddd; padding: 8px;'><a href=\"https://clubspark.lta.org.uk/HackneyDowns/Booking/BookByDate#?date=2024-10-14&role=guest\" target=\"_blank\">£4.90</a></td><td style='border: 1px solid #ddd; padding: 8px;'><a href=\"https://clubspark.lta.org.uk/HackneyDowns/Booking/BookByDate#?date=2024-10-15&role=guest\" target=\"_blank\">£4.90</a></td><td style='border: 1px solid #ddd; padding: 8px;'><a href=\"https://clubspark.lta.org.uk/HackneyDowns/Booking/BookByDate#?date=2024-10-16&role=guest\" target=\"_blank\">£4.90</a></td><td style='border: 1px solid #ddd; padding: 8px;'><a href=\"https://clubspark.lta.org.uk/HackneyDowns/Booking/BookByDate#?date=2024-10-17&role=guest\" target=\"_blank\">£4.90</a></td></tr><tr><td style='border: 1px solid #ddd; padding: 8px;'>15:00</td><td style='border: 1px solid #ddd; padding: 8px;'></td><td style='border: 1px solid #ddd; padding: 8px;'></td><td style='border: 1px solid #ddd; padding: 8px;'></td><td style='border: 1px solid #ddd; padding: 8px;'><a href=\"https://clubspark.lta.org.uk/HackneyDowns/Booking/BookByDate#?date=2024-10-14&role=guest\" target=\"_blank\">£4.90</a></td><td style='border: 1px solid #ddd; padding: 8px;'><a href=\"https://clubspark.lta.org.uk/HackneyDowns/Booking/BookByDate#?date=2024-10-15&role=guest\" target=\"_blank\">£4.90</a></td><td style='border: 1px solid #ddd; padding: 8px;'><a href=\"https://clubspark.lta.org.uk/HackneyDowns/Booking/BookByDate#?date=2024-10-16&role=guest\" target=\"_blank\">£4.90</a></td><td style='border: 1px solid #ddd; padding: 8px;'><a href=\"https://clubspark.lta.org.uk/HackneyDowns/Booking/BookByDate#?date=2024-10-17&role=guest\" target=\"_blank\">£4.90</a></td></tr><tr><td style='border: 1px solid #ddd; padding: 8px;'>16:00</td><td style='border: 1px solid #ddd; padding: 8px;'></td><td style='border: 1px solid #ddd; padding: 8px;'></td><td style='border: 1px solid #ddd; padding: 8px;'></td><td style='border: 1px solid #ddd; padding: 8px;'><a href=\"https://clubspark.lta.org.uk/HackneyDowns/Booking/BookByDate#?date=2024-10-14&role=guest\" target=\"_blank\">£4.90</a></td><td style='border: 1px solid #ddd; padding: 8px;'><a href=\"https://clubspark.lta.org.uk/HackneyDowns/Booking/BookByDate#?date=2024-10-15&role=guest\" target=\"_blank\">£4.90</a></td><td style='border: 1px solid #ddd; padding: 8px;'><a href=\"https://clubspark.lta.org.uk/HackneyDowns/Booking/BookByDate#?date=2024-10-16&role=guest\" target=\"_blank\">£4.90</a></td><td style='border: 1px solid #ddd; padding: 8px;'><a href=\"https://clubspark.lta.org.uk/HackneyDowns/Booking/BookByDate#?date=2024-10-17&role=guest\" target=\"_blank\">£4.90</a></td></tr><tr><td style='border: 1px solid #ddd; padding: 8px;'>20:00</td><td style='border: 1px solid #ddd; padding: 8px;'></td><td style='border: 1px solid #ddd; padding: 8px;'><a href=\"https://clubspark.lta.org.uk/HackneyDowns/Booking/BookByDate#?date=2024-10-12&role=guest\" target=\"_blank\">£12.65</a></td><td style='border: 1px solid #ddd; padding: 8px;'></td><td style='border: 1px solid #ddd; padding: 8px;'></td><td style='border: 1px solid #ddd; padding: 8px;'></td><td style='border: 1px solid #ddd; padding: 8px;'></td><td style='border: 1px solid #ddd; padding: 8px;'></td></tr></tbody></table>"
      ],
      "text/plain": [
       "<IPython.core.display.HTML object>"
      ]
     },
     "metadata": {},
     "output_type": "display_data"
    },
    {
     "data": {
      "text/html": [
       "<h2 style='color:#A8E1D4;'>AskeGardens</h2>"
      ],
      "text/plain": [
       "<IPython.core.display.HTML object>"
      ]
     },
     "metadata": {},
     "output_type": "display_data"
    },
    {
     "data": {
      "text/html": [
       "<table style='border-collapse: collapse; width: 100%;'><thead><tr><th style='border: 1px solid #ddd; padding: 8px;'>Time Slot</th><th style='border: 1px solid #ddd; padding: 8px;'>2024-10-11</th><th style='border: 1px solid #ddd; padding: 8px;'>2024-10-12</th><th style='border: 1px solid #ddd; padding: 8px;'>2024-10-13</th><th style='border: 1px solid #ddd; padding: 8px;'>2024-10-14</th><th style='border: 1px solid #ddd; padding: 8px;'>2024-10-15</th><th style='border: 1px solid #ddd; padding: 8px;'>2024-10-16</th><th style='border: 1px solid #ddd; padding: 8px;'>2024-10-17</th></tr></thead><tbody><tr><td style='border: 1px solid #ddd; padding: 8px;'>08:00</td><td style='border: 1px solid #ddd; padding: 8px;'></td><td style='border: 1px solid #ddd; padding: 8px;'></td><td style='border: 1px solid #ddd; padding: 8px;'></td><td style='border: 1px solid #ddd; padding: 8px;'></td><td style='border: 1px solid #ddd; padding: 8px;'></td><td style='border: 1px solid #ddd; padding: 8px;'></td><td style='border: 1px solid #ddd; padding: 8px;'><a href=\"https://clubspark.lta.org.uk/AskeGardens/Booking/BookByDate#?date=2024-10-17&role=guest\" target=\"_blank\">£3.65</a></td></tr><tr><td style='border: 1px solid #ddd; padding: 8px;'>09:00</td><td style='border: 1px solid #ddd; padding: 8px;'></td><td style='border: 1px solid #ddd; padding: 8px;'></td><td style='border: 1px solid #ddd; padding: 8px;'></td><td style='border: 1px solid #ddd; padding: 8px;'></td><td style='border: 1px solid #ddd; padding: 8px;'></td><td style='border: 1px solid #ddd; padding: 8px;'></td><td style='border: 1px solid #ddd; padding: 8px;'><a href=\"https://clubspark.lta.org.uk/AskeGardens/Booking/BookByDate#?date=2024-10-17&role=guest\" target=\"_blank\">£3.65</a></td></tr><tr><td style='border: 1px solid #ddd; padding: 8px;'>10:00</td><td style='border: 1px solid #ddd; padding: 8px;'></td><td style='border: 1px solid #ddd; padding: 8px;'></td><td style='border: 1px solid #ddd; padding: 8px;'></td><td style='border: 1px solid #ddd; padding: 8px;'></td><td style='border: 1px solid #ddd; padding: 8px;'></td><td style='border: 1px solid #ddd; padding: 8px;'><a href=\"https://clubspark.lta.org.uk/AskeGardens/Booking/BookByDate#?date=2024-10-16&role=guest\" target=\"_blank\">£4.90</a></td><td style='border: 1px solid #ddd; padding: 8px;'></td></tr><tr><td style='border: 1px solid #ddd; padding: 8px;'>13:00</td><td style='border: 1px solid #ddd; padding: 8px;'></td><td style='border: 1px solid #ddd; padding: 8px;'></td><td style='border: 1px solid #ddd; padding: 8px;'></td><td style='border: 1px solid #ddd; padding: 8px;'></td><td style='border: 1px solid #ddd; padding: 8px;'></td><td style='border: 1px solid #ddd; padding: 8px;'></td><td style='border: 1px solid #ddd; padding: 8px;'><a href=\"https://clubspark.lta.org.uk/AskeGardens/Booking/BookByDate#?date=2024-10-17&role=guest\" target=\"_blank\">£4.90</a></td></tr><tr><td style='border: 1px solid #ddd; padding: 8px;'>14:00</td><td style='border: 1px solid #ddd; padding: 8px;'></td><td style='border: 1px solid #ddd; padding: 8px;'></td><td style='border: 1px solid #ddd; padding: 8px;'></td><td style='border: 1px solid #ddd; padding: 8px;'></td><td style='border: 1px solid #ddd; padding: 8px;'></td><td style='border: 1px solid #ddd; padding: 8px;'><a href=\"https://clubspark.lta.org.uk/AskeGardens/Booking/BookByDate#?date=2024-10-16&role=guest\" target=\"_blank\">£4.90</a></td><td style='border: 1px solid #ddd; padding: 8px;'><a href=\"https://clubspark.lta.org.uk/AskeGardens/Booking/BookByDate#?date=2024-10-17&role=guest\" target=\"_blank\">£4.90</a></td></tr></tbody></table>"
      ],
      "text/plain": [
       "<IPython.core.display.HTML object>"
      ]
     },
     "metadata": {},
     "output_type": "display_data"
    },
    {
     "data": {
      "text/html": [
       "<h2 style='color:#A8E1D4;'>LondonFieldsPark</h2>"
      ],
      "text/plain": [
       "<IPython.core.display.HTML object>"
      ]
     },
     "metadata": {},
     "output_type": "display_data"
    },
    {
     "data": {
      "text/html": [
       "<table style='border-collapse: collapse; width: 100%;'><thead><tr><th style='border: 1px solid #ddd; padding: 8px;'>Time Slot</th><th style='border: 1px solid #ddd; padding: 8px;'>2024-10-11</th><th style='border: 1px solid #ddd; padding: 8px;'>2024-10-12</th><th style='border: 1px solid #ddd; padding: 8px;'>2024-10-13</th><th style='border: 1px solid #ddd; padding: 8px;'>2024-10-14</th><th style='border: 1px solid #ddd; padding: 8px;'>2024-10-15</th><th style='border: 1px solid #ddd; padding: 8px;'>2024-10-16</th><th style='border: 1px solid #ddd; padding: 8px;'>2024-10-17</th></tr></thead><tbody><tr><td style='border: 1px solid #ddd; padding: 8px;'>10:00</td><td style='border: 1px solid #ddd; padding: 8px;'></td><td style='border: 1px solid #ddd; padding: 8px;'></td><td style='border: 1px solid #ddd; padding: 8px;'></td><td style='border: 1px solid #ddd; padding: 8px;'></td><td style='border: 1px solid #ddd; padding: 8px;'></td><td style='border: 1px solid #ddd; padding: 8px;'></td><td style='border: 1px solid #ddd; padding: 8px;'><a href=\"https://clubspark.lta.org.uk/LondonFieldsPark/Booking/BookByDate#?date=2024-10-17&role=guest\" target=\"_blank\">£4.90</a></td></tr><tr><td style='border: 1px solid #ddd; padding: 8px;'>11:00</td><td style='border: 1px solid #ddd; padding: 8px;'></td><td style='border: 1px solid #ddd; padding: 8px;'></td><td style='border: 1px solid #ddd; padding: 8px;'></td><td style='border: 1px solid #ddd; padding: 8px;'></td><td style='border: 1px solid #ddd; padding: 8px;'></td><td style='border: 1px solid #ddd; padding: 8px;'><a href=\"https://clubspark.lta.org.uk/LondonFieldsPark/Booking/BookByDate#?date=2024-10-16&role=guest\" target=\"_blank\">£4.90</a></td><td style='border: 1px solid #ddd; padding: 8px;'></td></tr><tr><td style='border: 1px solid #ddd; padding: 8px;'>12:00</td><td style='border: 1px solid #ddd; padding: 8px;'></td><td style='border: 1px solid #ddd; padding: 8px;'></td><td style='border: 1px solid #ddd; padding: 8px;'></td><td style='border: 1px solid #ddd; padding: 8px;'></td><td style='border: 1px solid #ddd; padding: 8px;'></td><td style='border: 1px solid #ddd; padding: 8px;'><a href=\"https://clubspark.lta.org.uk/LondonFieldsPark/Booking/BookByDate#?date=2024-10-16&role=guest\" target=\"_blank\">£4.90</a></td><td style='border: 1px solid #ddd; padding: 8px;'></td></tr><tr><td style='border: 1px solid #ddd; padding: 8px;'>13:00</td><td style='border: 1px solid #ddd; padding: 8px;'></td><td style='border: 1px solid #ddd; padding: 8px;'></td><td style='border: 1px solid #ddd; padding: 8px;'></td><td style='border: 1px solid #ddd; padding: 8px;'></td><td style='border: 1px solid #ddd; padding: 8px;'></td><td style='border: 1px solid #ddd; padding: 8px;'><a href=\"https://clubspark.lta.org.uk/LondonFieldsPark/Booking/BookByDate#?date=2024-10-16&role=guest\" target=\"_blank\">£4.90</a></td><td style='border: 1px solid #ddd; padding: 8px;'><a href=\"https://clubspark.lta.org.uk/LondonFieldsPark/Booking/BookByDate#?date=2024-10-17&role=guest\" target=\"_blank\">£4.90</a></td></tr><tr><td style='border: 1px solid #ddd; padding: 8px;'>14:00</td><td style='border: 1px solid #ddd; padding: 8px;'></td><td style='border: 1px solid #ddd; padding: 8px;'></td><td style='border: 1px solid #ddd; padding: 8px;'></td><td style='border: 1px solid #ddd; padding: 8px;'><a href=\"https://clubspark.lta.org.uk/LondonFieldsPark/Booking/BookByDate#?date=2024-10-14&role=guest\" target=\"_blank\">£4.90</a></td><td style='border: 1px solid #ddd; padding: 8px;'></td><td style='border: 1px solid #ddd; padding: 8px;'><a href=\"https://clubspark.lta.org.uk/LondonFieldsPark/Booking/BookByDate#?date=2024-10-16&role=guest\" target=\"_blank\">£4.90</a></td><td style='border: 1px solid #ddd; padding: 8px;'><a href=\"https://clubspark.lta.org.uk/LondonFieldsPark/Booking/BookByDate#?date=2024-10-17&role=guest\" target=\"_blank\">£4.90</a></td></tr><tr><td style='border: 1px solid #ddd; padding: 8px;'>15:00</td><td style='border: 1px solid #ddd; padding: 8px;'></td><td style='border: 1px solid #ddd; padding: 8px;'></td><td style='border: 1px solid #ddd; padding: 8px;'></td><td style='border: 1px solid #ddd; padding: 8px;'></td><td style='border: 1px solid #ddd; padding: 8px;'></td><td style='border: 1px solid #ddd; padding: 8px;'><a href=\"https://clubspark.lta.org.uk/LondonFieldsPark/Booking/BookByDate#?date=2024-10-16&role=guest\" target=\"_blank\">£4.90</a></td><td style='border: 1px solid #ddd; padding: 8px;'><a href=\"https://clubspark.lta.org.uk/LondonFieldsPark/Booking/BookByDate#?date=2024-10-17&role=guest\" target=\"_blank\">£4.90</a></td></tr><tr><td style='border: 1px solid #ddd; padding: 8px;'>16:00</td><td style='border: 1px solid #ddd; padding: 8px;'></td><td style='border: 1px solid #ddd; padding: 8px;'></td><td style='border: 1px solid #ddd; padding: 8px;'></td><td style='border: 1px solid #ddd; padding: 8px;'></td><td style='border: 1px solid #ddd; padding: 8px;'><a href=\"https://clubspark.lta.org.uk/LondonFieldsPark/Booking/BookByDate#?date=2024-10-15&role=guest\" target=\"_blank\">£4.90</a></td><td style='border: 1px solid #ddd; padding: 8px;'></td><td style='border: 1px solid #ddd; padding: 8px;'></td></tr></tbody></table>"
      ],
      "text/plain": [
       "<IPython.core.display.HTML object>"
      ]
     },
     "metadata": {},
     "output_type": "display_data"
    },
    {
     "data": {
      "text/html": [
       "<h2 style='color:#A8E1D4;'>MillfieldsParkMiddlesex</h2>"
      ],
      "text/plain": [
       "<IPython.core.display.HTML object>"
      ]
     },
     "metadata": {},
     "output_type": "display_data"
    },
    {
     "data": {
      "text/html": [
       "<table style='border-collapse: collapse; width: 100%;'><thead><tr><th style='border: 1px solid #ddd; padding: 8px;'>Time Slot</th><th style='border: 1px solid #ddd; padding: 8px;'>2024-10-11</th><th style='border: 1px solid #ddd; padding: 8px;'>2024-10-12</th><th style='border: 1px solid #ddd; padding: 8px;'>2024-10-13</th><th style='border: 1px solid #ddd; padding: 8px;'>2024-10-14</th><th style='border: 1px solid #ddd; padding: 8px;'>2024-10-15</th><th style='border: 1px solid #ddd; padding: 8px;'>2024-10-16</th><th style='border: 1px solid #ddd; padding: 8px;'>2024-10-17</th></tr></thead><tbody><tr><td style='border: 1px solid #ddd; padding: 8px;'>08:00</td><td style='border: 1px solid #ddd; padding: 8px;'></td><td style='border: 1px solid #ddd; padding: 8px;'></td><td style='border: 1px solid #ddd; padding: 8px;'><a href=\"https://clubspark.lta.org.uk/MillfieldsParkMiddlesex/Booking/BookByDate#?date=2024-10-13&role=guest\" target=\"_blank\">£3.65</a></td><td style='border: 1px solid #ddd; padding: 8px;'><a href=\"https://clubspark.lta.org.uk/MillfieldsParkMiddlesex/Booking/BookByDate#?date=2024-10-14&role=guest\" target=\"_blank\">£3.65</a></td><td style='border: 1px solid #ddd; padding: 8px;'><a href=\"https://clubspark.lta.org.uk/MillfieldsParkMiddlesex/Booking/BookByDate#?date=2024-10-15&role=guest\" target=\"_blank\">£3.65</a></td><td style='border: 1px solid #ddd; padding: 8px;'><a href=\"https://clubspark.lta.org.uk/MillfieldsParkMiddlesex/Booking/BookByDate#?date=2024-10-16&role=guest\" target=\"_blank\">£3.65</a></td><td style='border: 1px solid #ddd; padding: 8px;'><a href=\"https://clubspark.lta.org.uk/MillfieldsParkMiddlesex/Booking/BookByDate#?date=2024-10-17&role=guest\" target=\"_blank\">£3.65</a></td></tr><tr><td style='border: 1px solid #ddd; padding: 8px;'>09:00</td><td style='border: 1px solid #ddd; padding: 8px;'></td><td style='border: 1px solid #ddd; padding: 8px;'></td><td style='border: 1px solid #ddd; padding: 8px;'></td><td style='border: 1px solid #ddd; padding: 8px;'><a href=\"https://clubspark.lta.org.uk/MillfieldsParkMiddlesex/Booking/BookByDate#?date=2024-10-14&role=guest\" target=\"_blank\">£4.90</a></td><td style='border: 1px solid #ddd; padding: 8px;'><a href=\"https://clubspark.lta.org.uk/MillfieldsParkMiddlesex/Booking/BookByDate#?date=2024-10-15&role=guest\" target=\"_blank\">£4.90</a></td><td style='border: 1px solid #ddd; padding: 8px;'><a href=\"https://clubspark.lta.org.uk/MillfieldsParkMiddlesex/Booking/BookByDate#?date=2024-10-16&role=guest\" target=\"_blank\">£4.90</a></td><td style='border: 1px solid #ddd; padding: 8px;'><a href=\"https://clubspark.lta.org.uk/MillfieldsParkMiddlesex/Booking/BookByDate#?date=2024-10-17&role=guest\" target=\"_blank\">£4.90</a></td></tr><tr><td style='border: 1px solid #ddd; padding: 8px;'>10:00</td><td style='border: 1px solid #ddd; padding: 8px;'></td><td style='border: 1px solid #ddd; padding: 8px;'></td><td style='border: 1px solid #ddd; padding: 8px;'></td><td style='border: 1px solid #ddd; padding: 8px;'><a href=\"https://clubspark.lta.org.uk/MillfieldsParkMiddlesex/Booking/BookByDate#?date=2024-10-14&role=guest\" target=\"_blank\">£4.90</a></td><td style='border: 1px solid #ddd; padding: 8px;'><a href=\"https://clubspark.lta.org.uk/MillfieldsParkMiddlesex/Booking/BookByDate#?date=2024-10-15&role=guest\" target=\"_blank\">£4.90</a></td><td style='border: 1px solid #ddd; padding: 8px;'><a href=\"https://clubspark.lta.org.uk/MillfieldsParkMiddlesex/Booking/BookByDate#?date=2024-10-16&role=guest\" target=\"_blank\">£4.90</a></td><td style='border: 1px solid #ddd; padding: 8px;'><a href=\"https://clubspark.lta.org.uk/MillfieldsParkMiddlesex/Booking/BookByDate#?date=2024-10-17&role=guest\" target=\"_blank\">£4.90</a></td></tr><tr><td style='border: 1px solid #ddd; padding: 8px;'>11:00</td><td style='border: 1px solid #ddd; padding: 8px;'></td><td style='border: 1px solid #ddd; padding: 8px;'></td><td style='border: 1px solid #ddd; padding: 8px;'></td><td style='border: 1px solid #ddd; padding: 8px;'><a href=\"https://clubspark.lta.org.uk/MillfieldsParkMiddlesex/Booking/BookByDate#?date=2024-10-14&role=guest\" target=\"_blank\">£4.90</a></td><td style='border: 1px solid #ddd; padding: 8px;'><a href=\"https://clubspark.lta.org.uk/MillfieldsParkMiddlesex/Booking/BookByDate#?date=2024-10-15&role=guest\" target=\"_blank\">£4.90</a></td><td style='border: 1px solid #ddd; padding: 8px;'><a href=\"https://clubspark.lta.org.uk/MillfieldsParkMiddlesex/Booking/BookByDate#?date=2024-10-16&role=guest\" target=\"_blank\">£4.90</a></td><td style='border: 1px solid #ddd; padding: 8px;'><a href=\"https://clubspark.lta.org.uk/MillfieldsParkMiddlesex/Booking/BookByDate#?date=2024-10-17&role=guest\" target=\"_blank\">£4.90</a></td></tr><tr><td style='border: 1px solid #ddd; padding: 8px;'>12:00</td><td style='border: 1px solid #ddd; padding: 8px;'></td><td style='border: 1px solid #ddd; padding: 8px;'></td><td style='border: 1px solid #ddd; padding: 8px;'></td><td style='border: 1px solid #ddd; padding: 8px;'><a href=\"https://clubspark.lta.org.uk/MillfieldsParkMiddlesex/Booking/BookByDate#?date=2024-10-14&role=guest\" target=\"_blank\">£4.90</a></td><td style='border: 1px solid #ddd; padding: 8px;'><a href=\"https://clubspark.lta.org.uk/MillfieldsParkMiddlesex/Booking/BookByDate#?date=2024-10-15&role=guest\" target=\"_blank\">£4.90</a></td><td style='border: 1px solid #ddd; padding: 8px;'><a href=\"https://clubspark.lta.org.uk/MillfieldsParkMiddlesex/Booking/BookByDate#?date=2024-10-16&role=guest\" target=\"_blank\">£4.90</a></td><td style='border: 1px solid #ddd; padding: 8px;'><a href=\"https://clubspark.lta.org.uk/MillfieldsParkMiddlesex/Booking/BookByDate#?date=2024-10-17&role=guest\" target=\"_blank\">£4.90</a></td></tr><tr><td style='border: 1px solid #ddd; padding: 8px;'>13:00</td><td style='border: 1px solid #ddd; padding: 8px;'></td><td style='border: 1px solid #ddd; padding: 8px;'></td><td style='border: 1px solid #ddd; padding: 8px;'></td><td style='border: 1px solid #ddd; padding: 8px;'><a href=\"https://clubspark.lta.org.uk/MillfieldsParkMiddlesex/Booking/BookByDate#?date=2024-10-14&role=guest\" target=\"_blank\">£4.90</a></td><td style='border: 1px solid #ddd; padding: 8px;'><a href=\"https://clubspark.lta.org.uk/MillfieldsParkMiddlesex/Booking/BookByDate#?date=2024-10-15&role=guest\" target=\"_blank\">£4.90</a></td><td style='border: 1px solid #ddd; padding: 8px;'><a href=\"https://clubspark.lta.org.uk/MillfieldsParkMiddlesex/Booking/BookByDate#?date=2024-10-16&role=guest\" target=\"_blank\">£4.90</a></td><td style='border: 1px solid #ddd; padding: 8px;'><a href=\"https://clubspark.lta.org.uk/MillfieldsParkMiddlesex/Booking/BookByDate#?date=2024-10-17&role=guest\" target=\"_blank\">£4.90</a></td></tr><tr><td style='border: 1px solid #ddd; padding: 8px;'>14:00</td><td style='border: 1px solid #ddd; padding: 8px;'><a href=\"https://clubspark.lta.org.uk/MillfieldsParkMiddlesex/Booking/BookByDate#?date=2024-10-11&role=guest\" target=\"_blank\">£4.90</a></td><td style='border: 1px solid #ddd; padding: 8px;'></td><td style='border: 1px solid #ddd; padding: 8px;'></td><td style='border: 1px solid #ddd; padding: 8px;'><a href=\"https://clubspark.lta.org.uk/MillfieldsParkMiddlesex/Booking/BookByDate#?date=2024-10-14&role=guest\" target=\"_blank\">£4.90</a></td><td style='border: 1px solid #ddd; padding: 8px;'><a href=\"https://clubspark.lta.org.uk/MillfieldsParkMiddlesex/Booking/BookByDate#?date=2024-10-15&role=guest\" target=\"_blank\">£4.90</a></td><td style='border: 1px solid #ddd; padding: 8px;'><a href=\"https://clubspark.lta.org.uk/MillfieldsParkMiddlesex/Booking/BookByDate#?date=2024-10-16&role=guest\" target=\"_blank\">£4.90</a></td><td style='border: 1px solid #ddd; padding: 8px;'><a href=\"https://clubspark.lta.org.uk/MillfieldsParkMiddlesex/Booking/BookByDate#?date=2024-10-17&role=guest\" target=\"_blank\">£4.90</a></td></tr><tr><td style='border: 1px solid #ddd; padding: 8px;'>15:00</td><td style='border: 1px solid #ddd; padding: 8px;'></td><td style='border: 1px solid #ddd; padding: 8px;'></td><td style='border: 1px solid #ddd; padding: 8px;'></td><td style='border: 1px solid #ddd; padding: 8px;'><a href=\"https://clubspark.lta.org.uk/MillfieldsParkMiddlesex/Booking/BookByDate#?date=2024-10-14&role=guest\" target=\"_blank\">£4.90</a></td><td style='border: 1px solid #ddd; padding: 8px;'><a href=\"https://clubspark.lta.org.uk/MillfieldsParkMiddlesex/Booking/BookByDate#?date=2024-10-15&role=guest\" target=\"_blank\">£4.90</a></td><td style='border: 1px solid #ddd; padding: 8px;'><a href=\"https://clubspark.lta.org.uk/MillfieldsParkMiddlesex/Booking/BookByDate#?date=2024-10-16&role=guest\" target=\"_blank\">£4.90</a></td><td style='border: 1px solid #ddd; padding: 8px;'><a href=\"https://clubspark.lta.org.uk/MillfieldsParkMiddlesex/Booking/BookByDate#?date=2024-10-17&role=guest\" target=\"_blank\">£4.90</a></td></tr><tr><td style='border: 1px solid #ddd; padding: 8px;'>16:00</td><td style='border: 1px solid #ddd; padding: 8px;'></td><td style='border: 1px solid #ddd; padding: 8px;'></td><td style='border: 1px solid #ddd; padding: 8px;'></td><td style='border: 1px solid #ddd; padding: 8px;'><a href=\"https://clubspark.lta.org.uk/MillfieldsParkMiddlesex/Booking/BookByDate#?date=2024-10-14&role=guest\" target=\"_blank\">£4.90</a></td><td style='border: 1px solid #ddd; padding: 8px;'><a href=\"https://clubspark.lta.org.uk/MillfieldsParkMiddlesex/Booking/BookByDate#?date=2024-10-15&role=guest\" target=\"_blank\">£4.90</a></td><td style='border: 1px solid #ddd; padding: 8px;'><a href=\"https://clubspark.lta.org.uk/MillfieldsParkMiddlesex/Booking/BookByDate#?date=2024-10-16&role=guest\" target=\"_blank\">£4.90</a></td><td style='border: 1px solid #ddd; padding: 8px;'><a href=\"https://clubspark.lta.org.uk/MillfieldsParkMiddlesex/Booking/BookByDate#?date=2024-10-17&role=guest\" target=\"_blank\">£4.90</a></td></tr><tr><td style='border: 1px solid #ddd; padding: 8px;'>17:00</td><td style='border: 1px solid #ddd; padding: 8px;'></td><td style='border: 1px solid #ddd; padding: 8px;'><a href=\"https://clubspark.lta.org.uk/MillfieldsParkMiddlesex/Booking/BookByDate#?date=2024-10-12&role=guest\" target=\"_blank\">£7.45</a></td><td style='border: 1px solid #ddd; padding: 8px;'></td><td style='border: 1px solid #ddd; padding: 8px;'></td><td style='border: 1px solid #ddd; padding: 8px;'><a href=\"https://clubspark.lta.org.uk/MillfieldsParkMiddlesex/Booking/BookByDate#?date=2024-10-15&role=guest\" target=\"_blank\">£4.90</a></td><td style='border: 1px solid #ddd; padding: 8px;'><a href=\"https://clubspark.lta.org.uk/MillfieldsParkMiddlesex/Booking/BookByDate#?date=2024-10-16&role=guest\" target=\"_blank\">£4.90</a></td><td style='border: 1px solid #ddd; padding: 8px;'><a href=\"https://clubspark.lta.org.uk/MillfieldsParkMiddlesex/Booking/BookByDate#?date=2024-10-17&role=guest\" target=\"_blank\">£4.90</a></td></tr></tbody></table>"
      ],
      "text/plain": [
       "<IPython.core.display.HTML object>"
      ]
     },
     "metadata": {},
     "output_type": "display_data"
    },
    {
     "data": {
      "text/html": [
       "<h2 style='color:#A8E1D4;'>SpringHillParkTennis</h2>"
      ],
      "text/plain": [
       "<IPython.core.display.HTML object>"
      ]
     },
     "metadata": {},
     "output_type": "display_data"
    },
    {
     "data": {
      "text/html": [
       "<table style='border-collapse: collapse; width: 100%;'><thead><tr><th style='border: 1px solid #ddd; padding: 8px;'>Time Slot</th><th style='border: 1px solid #ddd; padding: 8px;'>2024-10-11</th><th style='border: 1px solid #ddd; padding: 8px;'>2024-10-12</th><th style='border: 1px solid #ddd; padding: 8px;'>2024-10-13</th><th style='border: 1px solid #ddd; padding: 8px;'>2024-10-14</th><th style='border: 1px solid #ddd; padding: 8px;'>2024-10-15</th><th style='border: 1px solid #ddd; padding: 8px;'>2024-10-16</th><th style='border: 1px solid #ddd; padding: 8px;'>2024-10-17</th></tr></thead><tbody><tr><td style='border: 1px solid #ddd; padding: 8px;'>08:00</td><td style='border: 1px solid #ddd; padding: 8px;'><a href=\"https://clubspark.lta.org.uk/SpringHillParkTennis/Booking/BookByDate#?date=2024-10-11&role=guest\" target=\"_blank\">£3.65</a></td><td style='border: 1px solid #ddd; padding: 8px;'><a href=\"https://clubspark.lta.org.uk/SpringHillParkTennis/Booking/BookByDate#?date=2024-10-12&role=guest\" target=\"_blank\">£3.65</a></td><td style='border: 1px solid #ddd; padding: 8px;'></td><td style='border: 1px solid #ddd; padding: 8px;'><a href=\"https://clubspark.lta.org.uk/SpringHillParkTennis/Booking/BookByDate#?date=2024-10-14&role=guest\" target=\"_blank\">£3.65</a></td><td style='border: 1px solid #ddd; padding: 8px;'><a href=\"https://clubspark.lta.org.uk/SpringHillParkTennis/Booking/BookByDate#?date=2024-10-15&role=guest\" target=\"_blank\">£3.65</a></td><td style='border: 1px solid #ddd; padding: 8px;'><a href=\"https://clubspark.lta.org.uk/SpringHillParkTennis/Booking/BookByDate#?date=2024-10-16&role=guest\" target=\"_blank\">£3.65</a></td><td style='border: 1px solid #ddd; padding: 8px;'><a href=\"https://clubspark.lta.org.uk/SpringHillParkTennis/Booking/BookByDate#?date=2024-10-17&role=guest\" target=\"_blank\">£3.65</a></td></tr><tr><td style='border: 1px solid #ddd; padding: 8px;'>09:00</td><td style='border: 1px solid #ddd; padding: 8px;'><a href=\"https://clubspark.lta.org.uk/SpringHillParkTennis/Booking/BookByDate#?date=2024-10-11&role=guest\" target=\"_blank\">£4.90</a></td><td style='border: 1px solid #ddd; padding: 8px;'></td><td style='border: 1px solid #ddd; padding: 8px;'></td><td style='border: 1px solid #ddd; padding: 8px;'><a href=\"https://clubspark.lta.org.uk/SpringHillParkTennis/Booking/BookByDate#?date=2024-10-14&role=guest\" target=\"_blank\">£4.90</a></td><td style='border: 1px solid #ddd; padding: 8px;'><a href=\"https://clubspark.lta.org.uk/SpringHillParkTennis/Booking/BookByDate#?date=2024-10-15&role=guest\" target=\"_blank\">£4.90</a></td><td style='border: 1px solid #ddd; padding: 8px;'><a href=\"https://clubspark.lta.org.uk/SpringHillParkTennis/Booking/BookByDate#?date=2024-10-16&role=guest\" target=\"_blank\">£4.90</a></td><td style='border: 1px solid #ddd; padding: 8px;'><a href=\"https://clubspark.lta.org.uk/SpringHillParkTennis/Booking/BookByDate#?date=2024-10-17&role=guest\" target=\"_blank\">£4.90</a></td></tr><tr><td style='border: 1px solid #ddd; padding: 8px;'>10:00</td><td style='border: 1px solid #ddd; padding: 8px;'><a href=\"https://clubspark.lta.org.uk/SpringHillParkTennis/Booking/BookByDate#?date=2024-10-11&role=guest\" target=\"_blank\">£4.90</a></td><td style='border: 1px solid #ddd; padding: 8px;'></td><td style='border: 1px solid #ddd; padding: 8px;'></td><td style='border: 1px solid #ddd; padding: 8px;'><a href=\"https://clubspark.lta.org.uk/SpringHillParkTennis/Booking/BookByDate#?date=2024-10-14&role=guest\" target=\"_blank\">£4.90</a></td><td style='border: 1px solid #ddd; padding: 8px;'><a href=\"https://clubspark.lta.org.uk/SpringHillParkTennis/Booking/BookByDate#?date=2024-10-15&role=guest\" target=\"_blank\">£4.90</a></td><td style='border: 1px solid #ddd; padding: 8px;'><a href=\"https://clubspark.lta.org.uk/SpringHillParkTennis/Booking/BookByDate#?date=2024-10-16&role=guest\" target=\"_blank\">£4.90</a></td><td style='border: 1px solid #ddd; padding: 8px;'><a href=\"https://clubspark.lta.org.uk/SpringHillParkTennis/Booking/BookByDate#?date=2024-10-17&role=guest\" target=\"_blank\">£4.90</a></td></tr><tr><td style='border: 1px solid #ddd; padding: 8px;'>11:00</td><td style='border: 1px solid #ddd; padding: 8px;'><a href=\"https://clubspark.lta.org.uk/SpringHillParkTennis/Booking/BookByDate#?date=2024-10-11&role=guest\" target=\"_blank\">£4.90</a></td><td style='border: 1px solid #ddd; padding: 8px;'></td><td style='border: 1px solid #ddd; padding: 8px;'></td><td style='border: 1px solid #ddd; padding: 8px;'><a href=\"https://clubspark.lta.org.uk/SpringHillParkTennis/Booking/BookByDate#?date=2024-10-14&role=guest\" target=\"_blank\">£4.90</a></td><td style='border: 1px solid #ddd; padding: 8px;'><a href=\"https://clubspark.lta.org.uk/SpringHillParkTennis/Booking/BookByDate#?date=2024-10-15&role=guest\" target=\"_blank\">£4.90</a></td><td style='border: 1px solid #ddd; padding: 8px;'><a href=\"https://clubspark.lta.org.uk/SpringHillParkTennis/Booking/BookByDate#?date=2024-10-16&role=guest\" target=\"_blank\">£4.90</a></td><td style='border: 1px solid #ddd; padding: 8px;'><a href=\"https://clubspark.lta.org.uk/SpringHillParkTennis/Booking/BookByDate#?date=2024-10-17&role=guest\" target=\"_blank\">£4.90</a></td></tr><tr><td style='border: 1px solid #ddd; padding: 8px;'>12:00</td><td style='border: 1px solid #ddd; padding: 8px;'><a href=\"https://clubspark.lta.org.uk/SpringHillParkTennis/Booking/BookByDate#?date=2024-10-11&role=guest\" target=\"_blank\">£4.90</a></td><td style='border: 1px solid #ddd; padding: 8px;'></td><td style='border: 1px solid #ddd; padding: 8px;'></td><td style='border: 1px solid #ddd; padding: 8px;'><a href=\"https://clubspark.lta.org.uk/SpringHillParkTennis/Booking/BookByDate#?date=2024-10-14&role=guest\" target=\"_blank\">£4.90</a></td><td style='border: 1px solid #ddd; padding: 8px;'><a href=\"https://clubspark.lta.org.uk/SpringHillParkTennis/Booking/BookByDate#?date=2024-10-15&role=guest\" target=\"_blank\">£4.90</a></td><td style='border: 1px solid #ddd; padding: 8px;'><a href=\"https://clubspark.lta.org.uk/SpringHillParkTennis/Booking/BookByDate#?date=2024-10-16&role=guest\" target=\"_blank\">£4.90</a></td><td style='border: 1px solid #ddd; padding: 8px;'><a href=\"https://clubspark.lta.org.uk/SpringHillParkTennis/Booking/BookByDate#?date=2024-10-17&role=guest\" target=\"_blank\">£4.90</a></td></tr><tr><td style='border: 1px solid #ddd; padding: 8px;'>13:00</td><td style='border: 1px solid #ddd; padding: 8px;'><a href=\"https://clubspark.lta.org.uk/SpringHillParkTennis/Booking/BookByDate#?date=2024-10-11&role=guest\" target=\"_blank\">£4.90</a></td><td style='border: 1px solid #ddd; padding: 8px;'></td><td style='border: 1px solid #ddd; padding: 8px;'></td><td style='border: 1px solid #ddd; padding: 8px;'><a href=\"https://clubspark.lta.org.uk/SpringHillParkTennis/Booking/BookByDate#?date=2024-10-14&role=guest\" target=\"_blank\">£4.90</a></td><td style='border: 1px solid #ddd; padding: 8px;'><a href=\"https://clubspark.lta.org.uk/SpringHillParkTennis/Booking/BookByDate#?date=2024-10-15&role=guest\" target=\"_blank\">£4.90</a></td><td style='border: 1px solid #ddd; padding: 8px;'><a href=\"https://clubspark.lta.org.uk/SpringHillParkTennis/Booking/BookByDate#?date=2024-10-16&role=guest\" target=\"_blank\">£4.90</a></td><td style='border: 1px solid #ddd; padding: 8px;'><a href=\"https://clubspark.lta.org.uk/SpringHillParkTennis/Booking/BookByDate#?date=2024-10-17&role=guest\" target=\"_blank\">£4.90</a></td></tr><tr><td style='border: 1px solid #ddd; padding: 8px;'>14:00</td><td style='border: 1px solid #ddd; padding: 8px;'><a href=\"https://clubspark.lta.org.uk/SpringHillParkTennis/Booking/BookByDate#?date=2024-10-11&role=guest\" target=\"_blank\">£4.90</a></td><td style='border: 1px solid #ddd; padding: 8px;'></td><td style='border: 1px solid #ddd; padding: 8px;'></td><td style='border: 1px solid #ddd; padding: 8px;'><a href=\"https://clubspark.lta.org.uk/SpringHillParkTennis/Booking/BookByDate#?date=2024-10-14&role=guest\" target=\"_blank\">£4.90</a></td><td style='border: 1px solid #ddd; padding: 8px;'><a href=\"https://clubspark.lta.org.uk/SpringHillParkTennis/Booking/BookByDate#?date=2024-10-15&role=guest\" target=\"_blank\">£4.90</a></td><td style='border: 1px solid #ddd; padding: 8px;'><a href=\"https://clubspark.lta.org.uk/SpringHillParkTennis/Booking/BookByDate#?date=2024-10-16&role=guest\" target=\"_blank\">£4.90</a></td><td style='border: 1px solid #ddd; padding: 8px;'><a href=\"https://clubspark.lta.org.uk/SpringHillParkTennis/Booking/BookByDate#?date=2024-10-17&role=guest\" target=\"_blank\">£4.90</a></td></tr><tr><td style='border: 1px solid #ddd; padding: 8px;'>15:00</td><td style='border: 1px solid #ddd; padding: 8px;'><a href=\"https://clubspark.lta.org.uk/SpringHillParkTennis/Booking/BookByDate#?date=2024-10-11&role=guest\" target=\"_blank\">£4.90</a></td><td style='border: 1px solid #ddd; padding: 8px;'></td><td style='border: 1px solid #ddd; padding: 8px;'></td><td style='border: 1px solid #ddd; padding: 8px;'><a href=\"https://clubspark.lta.org.uk/SpringHillParkTennis/Booking/BookByDate#?date=2024-10-14&role=guest\" target=\"_blank\">£4.90</a></td><td style='border: 1px solid #ddd; padding: 8px;'><a href=\"https://clubspark.lta.org.uk/SpringHillParkTennis/Booking/BookByDate#?date=2024-10-15&role=guest\" target=\"_blank\">£4.90</a></td><td style='border: 1px solid #ddd; padding: 8px;'><a href=\"https://clubspark.lta.org.uk/SpringHillParkTennis/Booking/BookByDate#?date=2024-10-16&role=guest\" target=\"_blank\">£4.90</a></td><td style='border: 1px solid #ddd; padding: 8px;'><a href=\"https://clubspark.lta.org.uk/SpringHillParkTennis/Booking/BookByDate#?date=2024-10-17&role=guest\" target=\"_blank\">£4.90</a></td></tr><tr><td style='border: 1px solid #ddd; padding: 8px;'>16:00</td><td style='border: 1px solid #ddd; padding: 8px;'><a href=\"https://clubspark.lta.org.uk/SpringHillParkTennis/Booking/BookByDate#?date=2024-10-11&role=guest\" target=\"_blank\">£4.90</a></td><td style='border: 1px solid #ddd; padding: 8px;'></td><td style='border: 1px solid #ddd; padding: 8px;'></td><td style='border: 1px solid #ddd; padding: 8px;'><a href=\"https://clubspark.lta.org.uk/SpringHillParkTennis/Booking/BookByDate#?date=2024-10-14&role=guest\" target=\"_blank\">£4.90</a></td><td style='border: 1px solid #ddd; padding: 8px;'><a href=\"https://clubspark.lta.org.uk/SpringHillParkTennis/Booking/BookByDate#?date=2024-10-15&role=guest\" target=\"_blank\">£4.90</a></td><td style='border: 1px solid #ddd; padding: 8px;'><a href=\"https://clubspark.lta.org.uk/SpringHillParkTennis/Booking/BookByDate#?date=2024-10-16&role=guest\" target=\"_blank\">£4.90</a></td><td style='border: 1px solid #ddd; padding: 8px;'><a href=\"https://clubspark.lta.org.uk/SpringHillParkTennis/Booking/BookByDate#?date=2024-10-17&role=guest\" target=\"_blank\">£4.90</a></td></tr><tr><td style='border: 1px solid #ddd; padding: 8px;'>17:00</td><td style='border: 1px solid #ddd; padding: 8px;'><a href=\"https://clubspark.lta.org.uk/SpringHillParkTennis/Booking/BookByDate#?date=2024-10-11&role=guest\" target=\"_blank\">£4.90</a></td><td style='border: 1px solid #ddd; padding: 8px;'></td><td style='border: 1px solid #ddd; padding: 8px;'></td><td style='border: 1px solid #ddd; padding: 8px;'><a href=\"https://clubspark.lta.org.uk/SpringHillParkTennis/Booking/BookByDate#?date=2024-10-14&role=guest\" target=\"_blank\">£4.90</a></td><td style='border: 1px solid #ddd; padding: 8px;'><a href=\"https://clubspark.lta.org.uk/SpringHillParkTennis/Booking/BookByDate#?date=2024-10-15&role=guest\" target=\"_blank\">£4.90</a></td><td style='border: 1px solid #ddd; padding: 8px;'><a href=\"https://clubspark.lta.org.uk/SpringHillParkTennis/Booking/BookByDate#?date=2024-10-16&role=guest\" target=\"_blank\">£4.90</a></td><td style='border: 1px solid #ddd; padding: 8px;'><a href=\"https://clubspark.lta.org.uk/SpringHillParkTennis/Booking/BookByDate#?date=2024-10-17&role=guest\" target=\"_blank\">£4.90</a></td></tr></tbody></table>"
      ],
      "text/plain": [
       "<IPython.core.display.HTML object>"
      ]
     },
     "metadata": {},
     "output_type": "display_data"
    }
   ],
   "source": [
    "from selenium import webdriver\n",
    "from selenium.webdriver.common.by import By\n",
    "from selenium.webdriver.chrome.service import Service\n",
    "from selenium.webdriver.chrome.options import Options\n",
    "from webdriver_manager.chrome import ChromeDriverManager\n",
    "from selenium.webdriver.support.ui import WebDriverWait\n",
    "from selenium.webdriver.support import expected_conditions as EC\n",
    "from datetime import datetime, timedelta\n",
    "from selenium.common.exceptions import StaleElementReferenceException, TimeoutException\n",
    "import time\n",
    "from prettytable import PrettyTable\n",
    "from IPython.display import display, HTML\n",
    "\n",
    "#Array of parks to cycle through\n",
    "parks = [\n",
    "    \"ClissoldParkHackney\",\n",
    "    \"HackneyDowns\",\n",
    "    \"AskeGardens\",\n",
    "    \"LondonFieldsPark\",\n",
    "    \"MillfieldsParkMiddlesex\",\n",
    "    \"SpringHillParkTennis\"\n",
    "]\n",
    "\n",
    "# Function to get the date for a specific number of days in the future\n",
    "def get_future_date(days_from_now):\n",
    "    return (datetime.today() + timedelta(days=days_from_now)).strftime('%Y-%m-%d')\n",
    "\n",
    "# Set up Chrome options\n",
    "chrome_options = Options()\n",
    "chrome_options.add_argument(\"--headless\")  # Run Chrome in headless mode\n",
    "chrome_options.add_argument(\"--no-sandbox\")  # Bypass OS security model\n",
    "chrome_options.add_argument(\"--disable-dev-shm-usage\")  # Overcome limited resource problems\n",
    "\n",
    "# Initialize the WebDriver\n",
    "driver = webdriver.Chrome(service=Service(ChromeDriverManager().install()), options=chrome_options)\n",
    "\n",
    "\n",
    "# Dictionary to store results {park: {date: [available slots]}}\n",
    "park_data = {}\n",
    "\n",
    "try:\n",
    "    for park in parks:\n",
    "\n",
    "        park_data[park] = {}  # Initialize the dictionary for the park\n",
    "        \n",
    "        for day in range(7):  # Iterate from today (0) to the next 6 days (6)\n",
    "            # Get the date for today and the next 6 days\n",
    "            date_str = get_future_date(day)\n",
    "            url = f\"https://clubspark.lta.org.uk/{park}/Booking/BookByDate#?date={date_str}&role=guest\"\n",
    "            driver.get(url)\n",
    "            time.sleep(1)\n",
    "    \n",
    "            # Wait for the element to be present\n",
    "            wait = WebDriverWait(driver, 20)  # Increased wait time\n",
    "    \n",
    "            try:\n",
    "                # Print the date from the header\n",
    "                date_element = wait.until(EC.visibility_of_element_located((By.CLASS_NAME, 'pull-left')))\n",
    "    \n",
    "                # Attempt to locate and print specific cell text, retrying if stale reference occurs\n",
    "                while True:\n",
    "                    try:\n",
    "                        # Locate the table with class 'booking-sheet clearfix'\n",
    "                        table = wait.until(EC.visibility_of_element_located((By.CLASS_NAME, 'booking-sheet.clearfix')))\n",
    "                        \n",
    "                        # Locate all cells with the class 'book-interval not-booked'\n",
    "                        not_booked_cells = table.find_elements(By.CLASS_NAME, 'book-interval.not-booked')\n",
    "\n",
    "                        # Initialize an empty list for storing available slots for this day\n",
    "                        park_data[park][date_str] = []\n",
    "\n",
    "                        # Check if any not booked cells were found\n",
    "                        if not_booked_cells:\n",
    "                            for cell in not_booked_cells:\n",
    "                                # Find the child element with class 'available-booking-slot'\n",
    "                                available_slot_element = cell.find_element(By.CLASS_NAME, 'available-booking-slot')\n",
    "    \n",
    "                                # Print the entire inner HTML of the available slot element\n",
    "                                available_slot_inner_html = available_slot_element.get_attribute('innerHTML').strip()  # Strip whitespace\n",
    "                                \n",
    "                                # Find the child element with class 'cost'\n",
    "                                cost_element = cell.find_element(By.CLASS_NAME, 'cost')\n",
    "    \n",
    "                                # Print the text of the cost element\n",
    "                                cost_text = cost_element.text.strip()  # Strip whitespace\n",
    "    \n",
    "                                # Only print if cost is not empty\n",
    "                                if cost_text and cost_text.lower() != \"free\":  # Exclude \"FREE\" costs and Check if the cost is not an empty string\n",
    "                                    park_data[park][date_str].append(f\"{available_slot_inner_html} (Cost: {cost_text}) (URL: {url})\")\n",
    "    \n",
    "                        break  # Exit the loop if successful\n",
    "                    except StaleElementReferenceException:\n",
    "                        print(\"Encountered stale element reference, retrying...\")\n",
    "                        time.sleep(1)\n",
    "    \n",
    "            except TimeoutException:\n",
    "                print(\"Element not found within the given time.\")\n",
    "    \n",
    "\n",
    "finally:\n",
    "    # Close the driver when done\n",
    "    driver.quit()\n",
    "\n",
    "# Helper function to extract the time slot and cost from slot text\n",
    "def extract_time_cost_and_url(slot_text):\n",
    "    try:\n",
    "        time_part = slot_text.split(' ')[2]  # Extract '09:00 - 10:00'\n",
    "        cost_part = slot_text.split('(Cost: ')[1].split(')')[0]  # Extract '£3.65'\n",
    "        url_part = slot_text.split('(URL: ')[1].replace(')', '')  # Extract URL\n",
    "        return time_part, cost_part, url_part\n",
    "    except IndexError:\n",
    "        return None, None, None\n",
    "\n",
    "\n",
    "# Create HTML for each park\n",
    "for park, dates in park_data.items():\n",
    "    # Render the park name with a lighter mint blue color using HTML\n",
    "    display(HTML(f\"<h2 style='color:#A8E1D4;'>{park}</h2>\"))\n",
    "\n",
    "    # Start constructing the HTML table\n",
    "    html_table = \"<table style='border-collapse: collapse; width: 100%;'><thead><tr>\"\n",
    "    html_table += \"<th style='border: 1px solid #ddd; padding: 8px;'>Time Slot</th>\"  # First column header\n",
    "\n",
    "    # Set up the column headers with dates\n",
    "    date_headers = list(dates.keys())\n",
    "    for date in date_headers:\n",
    "        html_table += f\"<th style='border: 1px solid #ddd; padding: 8px;'>{date}</th>\"\n",
    "    html_table += \"</tr></thead><tbody>\"\n",
    "\n",
    "    # Collect unique time slots\n",
    "    unique_times = set()\n",
    "    for slots in dates.values():\n",
    "        for slot in slots:\n",
    "            time, _, _ = extract_time_cost_and_url(slot)\n",
    "            if time:\n",
    "                unique_times.add(time)\n",
    "    \n",
    "    # Populate the rows using the unique time slots\n",
    "    sorted_unique_times = sorted(list(unique_times))\n",
    "    for time_slot in sorted_unique_times:\n",
    "        html_table += \"<tr>\"\n",
    "        html_table += f\"<td style='border: 1px solid #ddd; padding: 8px;'>{time_slot}</td>\"  # Time slot column\n",
    "        for date in date_headers:\n",
    "            found = False  # Track if a matching time slot is found for the current date\n",
    "            for slot in dates[date]:\n",
    "                time, cost, unique_url = extract_time_cost_and_url(slot)\n",
    "                if time == time_slot:\n",
    "                    # Create clickable link for the cost\n",
    "                    date_str = date.replace('-', '')  # Remove dashes for URL\n",
    "                    cost_link = f'<a href=\"{unique_url}\" target=\"_blank\">{cost}</a>'\n",
    "                    html_table += f\"<td style='border: 1px solid #ddd; padding: 8px;'>{cost_link}</td>\"\n",
    "                    found = True\n",
    "                    break\n",
    "            if not found:\n",
    "                html_table += \"<td style='border: 1px solid #ddd; padding: 8px;'></td>\"  # Empty if no slot for that time on that date\n",
    "        html_table += \"</tr>\"\n",
    "\n",
    "    html_table += \"</tbody></table>\"\n",
    "    \n",
    "    # Display the HTML table\n",
    "    display(HTML(html_table))\n",
    "\n"
   ]
  },
  {
   "cell_type": "code",
   "execution_count": null,
   "id": "b8e1b692-b66c-44ac-ac67-d2ff34aa62e5",
   "metadata": {},
   "outputs": [],
   "source": []
  }
 ],
 "metadata": {
  "kernelspec": {
   "display_name": "Python 3 (ipykernel)",
   "language": "python",
   "name": "python3"
  },
  "language_info": {
   "codemirror_mode": {
    "name": "ipython",
    "version": 3
   },
   "file_extension": ".py",
   "mimetype": "text/x-python",
   "name": "python",
   "nbconvert_exporter": "python",
   "pygments_lexer": "ipython3",
   "version": "3.12.4"
  }
 },
 "nbformat": 4,
 "nbformat_minor": 5
}
