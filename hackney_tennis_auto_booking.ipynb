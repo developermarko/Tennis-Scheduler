{
 "cells": [
  {
   "cell_type": "code",
   "execution_count": 46,
   "id": "a0098a97-9c6e-4454-bef1-92eb8cf095fc",
   "metadata": {},
   "outputs": [
    {
     "data": {
      "text/html": [
       "<h2 style='color:#A8E1D4;'>AskeGardens</h2>"
      ],
      "text/plain": [
       "<IPython.core.display.HTML object>"
      ]
     },
     "metadata": {},
     "output_type": "display_data"
    },
    {
     "data": {
      "text/html": [
       "<table style='border-collapse: collapse; width: 100%;'><thead><tr><th style='border: 1px solid #ddd; padding: 8px;'>Time Slot</th><th style='border: 1px solid #ddd; padding: 8px;'>Sun, Nov 24</th></tr></thead><tbody><tr><td style='border: 1px solid #ddd; padding: 8px;'>09:00</td><td style='border: 1px solid #ddd; padding: 8px;'><a href=\"https://clubspark.lta.org.uk/AskeGardens/Booking/BookByDate#?date=2024-11-24&role=guest\" target=\"_blank\">£7.45</a></td></tr></tbody></table>"
      ],
      "text/plain": [
       "<IPython.core.display.HTML object>"
      ]
     },
     "metadata": {},
     "output_type": "display_data"
    },
    {
     "data": {
      "text/html": [
       "<h2 style='color:#A8E1D4;'>LondonFieldsPark</h2>"
      ],
      "text/plain": [
       "<IPython.core.display.HTML object>"
      ]
     },
     "metadata": {},
     "output_type": "display_data"
    },
    {
     "data": {
      "text/html": [
       "<table style='border-collapse: collapse; width: 100%;'><thead><tr><th style='border: 1px solid #ddd; padding: 8px;'>Time Slot</th><th style='border: 1px solid #ddd; padding: 8px;'>Mon, Nov 18</th><th style='border: 1px solid #ddd; padding: 8px;'>Tue, Nov 19</th><th style='border: 1px solid #ddd; padding: 8px;'>Wed, Nov 20</th><th style='border: 1px solid #ddd; padding: 8px;'>Thu, Nov 21</th><th style='border: 1px solid #ddd; padding: 8px;'>Fri, Nov 22</th><th style='border: 1px solid #ddd; padding: 8px;'>Sat, Nov 23</th><th style='border: 1px solid #ddd; padding: 8px;'>Sun, Nov 24</th></tr></thead><tbody><tr><td style='border: 1px solid #ddd; padding: 8px;'>08:00</td><td style='border: 1px solid #ddd; padding: 8px;'></td><td style='border: 1px solid #ddd; padding: 8px;'><a href=\"https://clubspark.lta.org.uk/LondonFieldsPark/Booking/BookByDate#?date=2024-11-19&role=guest\" target=\"_blank\">£3.65</a></td><td style='border: 1px solid #ddd; padding: 8px;'></td><td style='border: 1px solid #ddd; padding: 8px;'></td><td style='border: 1px solid #ddd; padding: 8px;'></td><td style='border: 1px solid #ddd; padding: 8px;'></td><td style='border: 1px solid #ddd; padding: 8px;'></td></tr><tr><td style='border: 1px solid #ddd; padding: 8px;'>10:00</td><td style='border: 1px solid #ddd; padding: 8px;'></td><td style='border: 1px solid #ddd; padding: 8px;'><a href=\"https://clubspark.lta.org.uk/LondonFieldsPark/Booking/BookByDate#?date=2024-11-19&role=guest\" target=\"_blank\">£4.90</a></td><td style='border: 1px solid #ddd; padding: 8px;'></td><td style='border: 1px solid #ddd; padding: 8px;'><a href=\"https://clubspark.lta.org.uk/LondonFieldsPark/Booking/BookByDate#?date=2024-11-21&role=guest\" target=\"_blank\">£4.90</a></td><td style='border: 1px solid #ddd; padding: 8px;'></td><td style='border: 1px solid #ddd; padding: 8px;'></td><td style='border: 1px solid #ddd; padding: 8px;'></td></tr><tr><td style='border: 1px solid #ddd; padding: 8px;'>12:00</td><td style='border: 1px solid #ddd; padding: 8px;'></td><td style='border: 1px solid #ddd; padding: 8px;'></td><td style='border: 1px solid #ddd; padding: 8px;'></td><td style='border: 1px solid #ddd; padding: 8px;'><a href=\"https://clubspark.lta.org.uk/LondonFieldsPark/Booking/BookByDate#?date=2024-11-21&role=guest\" target=\"_blank\">£4.90</a></td><td style='border: 1px solid #ddd; padding: 8px;'></td><td style='border: 1px solid #ddd; padding: 8px;'></td><td style='border: 1px solid #ddd; padding: 8px;'></td></tr><tr><td style='border: 1px solid #ddd; padding: 8px;'>13:00</td><td style='border: 1px solid #ddd; padding: 8px;'></td><td style='border: 1px solid #ddd; padding: 8px;'></td><td style='border: 1px solid #ddd; padding: 8px;'></td><td style='border: 1px solid #ddd; padding: 8px;'><a href=\"https://clubspark.lta.org.uk/LondonFieldsPark/Booking/BookByDate#?date=2024-11-21&role=guest\" target=\"_blank\">£4.90</a></td><td style='border: 1px solid #ddd; padding: 8px;'></td><td style='border: 1px solid #ddd; padding: 8px;'></td><td style='border: 1px solid #ddd; padding: 8px;'></td></tr><tr><td style='border: 1px solid #ddd; padding: 8px;'>14:00</td><td style='border: 1px solid #ddd; padding: 8px;'></td><td style='border: 1px solid #ddd; padding: 8px;'></td><td style='border: 1px solid #ddd; padding: 8px;'><a href=\"https://clubspark.lta.org.uk/LondonFieldsPark/Booking/BookByDate#?date=2024-11-20&role=guest\" target=\"_blank\">£4.90</a></td><td style='border: 1px solid #ddd; padding: 8px;'><a href=\"https://clubspark.lta.org.uk/LondonFieldsPark/Booking/BookByDate#?date=2024-11-21&role=guest\" target=\"_blank\">£4.90</a></td><td style='border: 1px solid #ddd; padding: 8px;'></td><td style='border: 1px solid #ddd; padding: 8px;'></td><td style='border: 1px solid #ddd; padding: 8px;'></td></tr><tr><td style='border: 1px solid #ddd; padding: 8px;'>15:00</td><td style='border: 1px solid #ddd; padding: 8px;'></td><td style='border: 1px solid #ddd; padding: 8px;'></td><td style='border: 1px solid #ddd; padding: 8px;'><a href=\"https://clubspark.lta.org.uk/LondonFieldsPark/Booking/BookByDate#?date=2024-11-20&role=guest\" target=\"_blank\">£4.90</a></td><td style='border: 1px solid #ddd; padding: 8px;'></td><td style='border: 1px solid #ddd; padding: 8px;'></td><td style='border: 1px solid #ddd; padding: 8px;'></td><td style='border: 1px solid #ddd; padding: 8px;'></td></tr></tbody></table>"
      ],
      "text/plain": [
       "<IPython.core.display.HTML object>"
      ]
     },
     "metadata": {},
     "output_type": "display_data"
    },
    {
     "data": {
      "text/html": [
       "<h2 style='color:#A8E1D4;'>ClissoldParkHackney</h2>"
      ],
      "text/plain": [
       "<IPython.core.display.HTML object>"
      ]
     },
     "metadata": {},
     "output_type": "display_data"
    },
    {
     "data": {
      "text/html": [
       "<table style='border-collapse: collapse; width: 100%;'><thead><tr><th style='border: 1px solid #ddd; padding: 8px;'>Time Slot</th><th style='border: 1px solid #ddd; padding: 8px;'>Mon, Nov 18</th><th style='border: 1px solid #ddd; padding: 8px;'>Tue, Nov 19</th><th style='border: 1px solid #ddd; padding: 8px;'>Wed, Nov 20</th><th style='border: 1px solid #ddd; padding: 8px;'>Thu, Nov 21</th><th style='border: 1px solid #ddd; padding: 8px;'>Fri, Nov 22</th><th style='border: 1px solid #ddd; padding: 8px;'>Sat, Nov 23</th><th style='border: 1px solid #ddd; padding: 8px;'>Sun, Nov 24</th></tr></thead><tbody><tr><td style='border: 1px solid #ddd; padding: 8px;'>08:00</td><td style='border: 1px solid #ddd; padding: 8px;'></td><td style='border: 1px solid #ddd; padding: 8px;'><a href=\"https://clubspark.lta.org.uk/ClissoldParkHackney/Booking/BookByDate#?date=2024-11-19&role=guest\" target=\"_blank\">£3.65</a></td><td style='border: 1px solid #ddd; padding: 8px;'></td><td style='border: 1px solid #ddd; padding: 8px;'></td><td style='border: 1px solid #ddd; padding: 8px;'></td><td style='border: 1px solid #ddd; padding: 8px;'><a href=\"https://clubspark.lta.org.uk/ClissoldParkHackney/Booking/BookByDate#?date=2024-11-23&role=guest\" target=\"_blank\">£7.45</a></td><td style='border: 1px solid #ddd; padding: 8px;'><a href=\"https://clubspark.lta.org.uk/ClissoldParkHackney/Booking/BookByDate#?date=2024-11-24&role=guest\" target=\"_blank\">£7.45</a></td></tr><tr><td style='border: 1px solid #ddd; padding: 8px;'>09:00</td><td style='border: 1px solid #ddd; padding: 8px;'></td><td style='border: 1px solid #ddd; padding: 8px;'><a href=\"https://clubspark.lta.org.uk/ClissoldParkHackney/Booking/BookByDate#?date=2024-11-19&role=guest\" target=\"_blank\">£3.65</a></td><td style='border: 1px solid #ddd; padding: 8px;'></td><td style='border: 1px solid #ddd; padding: 8px;'><a href=\"https://clubspark.lta.org.uk/ClissoldParkHackney/Booking/BookByDate#?date=2024-11-21&role=guest\" target=\"_blank\">£3.65</a></td><td style='border: 1px solid #ddd; padding: 8px;'><a href=\"https://clubspark.lta.org.uk/ClissoldParkHackney/Booking/BookByDate#?date=2024-11-22&role=guest\" target=\"_blank\">£3.65</a></td><td style='border: 1px solid #ddd; padding: 8px;'></td><td style='border: 1px solid #ddd; padding: 8px;'></td></tr><tr><td style='border: 1px solid #ddd; padding: 8px;'>10:00</td><td style='border: 1px solid #ddd; padding: 8px;'></td><td style='border: 1px solid #ddd; padding: 8px;'><a href=\"https://clubspark.lta.org.uk/ClissoldParkHackney/Booking/BookByDate#?date=2024-11-19&role=guest\" target=\"_blank\">£4.90</a></td><td style='border: 1px solid #ddd; padding: 8px;'></td><td style='border: 1px solid #ddd; padding: 8px;'><a href=\"https://clubspark.lta.org.uk/ClissoldParkHackney/Booking/BookByDate#?date=2024-11-21&role=guest\" target=\"_blank\">£4.90</a></td><td style='border: 1px solid #ddd; padding: 8px;'></td><td style='border: 1px solid #ddd; padding: 8px;'></td><td style='border: 1px solid #ddd; padding: 8px;'></td></tr><tr><td style='border: 1px solid #ddd; padding: 8px;'>11:00</td><td style='border: 1px solid #ddd; padding: 8px;'></td><td style='border: 1px solid #ddd; padding: 8px;'><a href=\"https://clubspark.lta.org.uk/ClissoldParkHackney/Booking/BookByDate#?date=2024-11-19&role=guest\" target=\"_blank\">£4.90</a></td><td style='border: 1px solid #ddd; padding: 8px;'></td><td style='border: 1px solid #ddd; padding: 8px;'></td><td style='border: 1px solid #ddd; padding: 8px;'></td><td style='border: 1px solid #ddd; padding: 8px;'></td><td style='border: 1px solid #ddd; padding: 8px;'></td></tr><tr><td style='border: 1px solid #ddd; padding: 8px;'>12:00</td><td style='border: 1px solid #ddd; padding: 8px;'></td><td style='border: 1px solid #ddd; padding: 8px;'><a href=\"https://clubspark.lta.org.uk/ClissoldParkHackney/Booking/BookByDate#?date=2024-11-19&role=guest\" target=\"_blank\">£4.90</a></td><td style='border: 1px solid #ddd; padding: 8px;'></td><td style='border: 1px solid #ddd; padding: 8px;'><a href=\"https://clubspark.lta.org.uk/ClissoldParkHackney/Booking/BookByDate#?date=2024-11-21&role=guest\" target=\"_blank\">£4.90</a></td><td style='border: 1px solid #ddd; padding: 8px;'></td><td style='border: 1px solid #ddd; padding: 8px;'></td><td style='border: 1px solid #ddd; padding: 8px;'></td></tr><tr><td style='border: 1px solid #ddd; padding: 8px;'>13:00</td><td style='border: 1px solid #ddd; padding: 8px;'></td><td style='border: 1px solid #ddd; padding: 8px;'><a href=\"https://clubspark.lta.org.uk/ClissoldParkHackney/Booking/BookByDate#?date=2024-11-19&role=guest\" target=\"_blank\">£4.90</a></td><td style='border: 1px solid #ddd; padding: 8px;'></td><td style='border: 1px solid #ddd; padding: 8px;'></td><td style='border: 1px solid #ddd; padding: 8px;'></td><td style='border: 1px solid #ddd; padding: 8px;'></td><td style='border: 1px solid #ddd; padding: 8px;'></td></tr><tr><td style='border: 1px solid #ddd; padding: 8px;'>14:00</td><td style='border: 1px solid #ddd; padding: 8px;'></td><td style='border: 1px solid #ddd; padding: 8px;'><a href=\"https://clubspark.lta.org.uk/ClissoldParkHackney/Booking/BookByDate#?date=2024-11-19&role=guest\" target=\"_blank\">£4.90</a></td><td style='border: 1px solid #ddd; padding: 8px;'></td><td style='border: 1px solid #ddd; padding: 8px;'><a href=\"https://clubspark.lta.org.uk/ClissoldParkHackney/Booking/BookByDate#?date=2024-11-21&role=guest\" target=\"_blank\">£4.90</a></td><td style='border: 1px solid #ddd; padding: 8px;'></td><td style='border: 1px solid #ddd; padding: 8px;'></td><td style='border: 1px solid #ddd; padding: 8px;'></td></tr><tr><td style='border: 1px solid #ddd; padding: 8px;'>15:00</td><td style='border: 1px solid #ddd; padding: 8px;'></td><td style='border: 1px solid #ddd; padding: 8px;'><a href=\"https://clubspark.lta.org.uk/ClissoldParkHackney/Booking/BookByDate#?date=2024-11-19&role=guest\" target=\"_blank\">£4.90</a></td><td style='border: 1px solid #ddd; padding: 8px;'><a href=\"https://clubspark.lta.org.uk/ClissoldParkHackney/Booking/BookByDate#?date=2024-11-20&role=guest\" target=\"_blank\">£4.90</a></td><td style='border: 1px solid #ddd; padding: 8px;'><a href=\"https://clubspark.lta.org.uk/ClissoldParkHackney/Booking/BookByDate#?date=2024-11-21&role=guest\" target=\"_blank\">£4.90</a></td><td style='border: 1px solid #ddd; padding: 8px;'></td><td style='border: 1px solid #ddd; padding: 8px;'></td><td style='border: 1px solid #ddd; padding: 8px;'></td></tr><tr><td style='border: 1px solid #ddd; padding: 8px;'>16:00</td><td style='border: 1px solid #ddd; padding: 8px;'></td><td style='border: 1px solid #ddd; padding: 8px;'></td><td style='border: 1px solid #ddd; padding: 8px;'><a href=\"https://clubspark.lta.org.uk/ClissoldParkHackney/Booking/BookByDate#?date=2024-11-20&role=guest\" target=\"_blank\">£12.65</a></td><td style='border: 1px solid #ddd; padding: 8px;'></td><td style='border: 1px solid #ddd; padding: 8px;'></td><td style='border: 1px solid #ddd; padding: 8px;'></td><td style='border: 1px solid #ddd; padding: 8px;'></td></tr><tr><td style='border: 1px solid #ddd; padding: 8px;'>17:00</td><td style='border: 1px solid #ddd; padding: 8px;'></td><td style='border: 1px solid #ddd; padding: 8px;'><a href=\"https://clubspark.lta.org.uk/ClissoldParkHackney/Booking/BookByDate#?date=2024-11-19&role=guest\" target=\"_blank\">£12.65</a></td><td style='border: 1px solid #ddd; padding: 8px;'></td><td style='border: 1px solid #ddd; padding: 8px;'></td><td style='border: 1px solid #ddd; padding: 8px;'></td><td style='border: 1px solid #ddd; padding: 8px;'></td><td style='border: 1px solid #ddd; padding: 8px;'></td></tr><tr><td style='border: 1px solid #ddd; padding: 8px;'>18:00</td><td style='border: 1px solid #ddd; padding: 8px;'></td><td style='border: 1px solid #ddd; padding: 8px;'><a href=\"https://clubspark.lta.org.uk/ClissoldParkHackney/Booking/BookByDate#?date=2024-11-19&role=guest\" target=\"_blank\">£12.65</a></td><td style='border: 1px solid #ddd; padding: 8px;'></td><td style='border: 1px solid #ddd; padding: 8px;'></td><td style='border: 1px solid #ddd; padding: 8px;'></td><td style='border: 1px solid #ddd; padding: 8px;'></td><td style='border: 1px solid #ddd; padding: 8px;'></td></tr><tr><td style='border: 1px solid #ddd; padding: 8px;'>19:00</td><td style='border: 1px solid #ddd; padding: 8px;'><a href=\"https://clubspark.lta.org.uk/ClissoldParkHackney/Booking/BookByDate#?date=2024-11-18&role=guest\" target=\"_blank\">£12.65</a></td><td style='border: 1px solid #ddd; padding: 8px;'></td><td style='border: 1px solid #ddd; padding: 8px;'></td><td style='border: 1px solid #ddd; padding: 8px;'></td><td style='border: 1px solid #ddd; padding: 8px;'></td><td style='border: 1px solid #ddd; padding: 8px;'></td><td style='border: 1px solid #ddd; padding: 8px;'></td></tr><tr><td style='border: 1px solid #ddd; padding: 8px;'>20:00</td><td style='border: 1px solid #ddd; padding: 8px;'><a href=\"https://clubspark.lta.org.uk/ClissoldParkHackney/Booking/BookByDate#?date=2024-11-18&role=guest\" target=\"_blank\">£12.65</a></td><td style='border: 1px solid #ddd; padding: 8px;'></td><td style='border: 1px solid #ddd; padding: 8px;'></td><td style='border: 1px solid #ddd; padding: 8px;'></td><td style='border: 1px solid #ddd; padding: 8px;'></td><td style='border: 1px solid #ddd; padding: 8px;'></td><td style='border: 1px solid #ddd; padding: 8px;'></td></tr></tbody></table>"
      ],
      "text/plain": [
       "<IPython.core.display.HTML object>"
      ]
     },
     "metadata": {},
     "output_type": "display_data"
    },
    {
     "data": {
      "text/html": [
       "<h2 style='color:#A8E1D4;'>HackneyDowns</h2>"
      ],
      "text/plain": [
       "<IPython.core.display.HTML object>"
      ]
     },
     "metadata": {},
     "output_type": "display_data"
    },
    {
     "data": {
      "text/html": [
       "<table style='border-collapse: collapse; width: 100%;'><thead><tr><th style='border: 1px solid #ddd; padding: 8px;'>Time Slot</th><th style='border: 1px solid #ddd; padding: 8px;'>Mon, Nov 18</th><th style='border: 1px solid #ddd; padding: 8px;'>Tue, Nov 19</th><th style='border: 1px solid #ddd; padding: 8px;'>Wed, Nov 20</th><th style='border: 1px solid #ddd; padding: 8px;'>Thu, Nov 21</th><th style='border: 1px solid #ddd; padding: 8px;'>Fri, Nov 22</th><th style='border: 1px solid #ddd; padding: 8px;'>Sat, Nov 23</th><th style='border: 1px solid #ddd; padding: 8px;'>Sun, Nov 24</th></tr></thead><tbody><tr><td style='border: 1px solid #ddd; padding: 8px;'>08:00</td><td style='border: 1px solid #ddd; padding: 8px;'></td><td style='border: 1px solid #ddd; padding: 8px;'></td><td style='border: 1px solid #ddd; padding: 8px;'><a href=\"https://clubspark.lta.org.uk/HackneyDowns/Booking/BookByDate#?date=2024-11-20&role=guest\" target=\"_blank\">£3.65</a></td><td style='border: 1px solid #ddd; padding: 8px;'></td><td style='border: 1px solid #ddd; padding: 8px;'></td><td style='border: 1px solid #ddd; padding: 8px;'></td><td style='border: 1px solid #ddd; padding: 8px;'></td></tr><tr><td style='border: 1px solid #ddd; padding: 8px;'>09:00</td><td style='border: 1px solid #ddd; padding: 8px;'></td><td style='border: 1px solid #ddd; padding: 8px;'><a href=\"https://clubspark.lta.org.uk/HackneyDowns/Booking/BookByDate#?date=2024-11-19&role=guest\" target=\"_blank\">£3.65</a></td><td style='border: 1px solid #ddd; padding: 8px;'><a href=\"https://clubspark.lta.org.uk/HackneyDowns/Booking/BookByDate#?date=2024-11-20&role=guest\" target=\"_blank\">£3.65</a></td><td style='border: 1px solid #ddd; padding: 8px;'></td><td style='border: 1px solid #ddd; padding: 8px;'></td><td style='border: 1px solid #ddd; padding: 8px;'></td><td style='border: 1px solid #ddd; padding: 8px;'></td></tr><tr><td style='border: 1px solid #ddd; padding: 8px;'>10:00</td><td style='border: 1px solid #ddd; padding: 8px;'></td><td style='border: 1px solid #ddd; padding: 8px;'><a href=\"https://clubspark.lta.org.uk/HackneyDowns/Booking/BookByDate#?date=2024-11-19&role=guest\" target=\"_blank\">£4.90</a></td><td style='border: 1px solid #ddd; padding: 8px;'><a href=\"https://clubspark.lta.org.uk/HackneyDowns/Booking/BookByDate#?date=2024-11-20&role=guest\" target=\"_blank\">£4.90</a></td><td style='border: 1px solid #ddd; padding: 8px;'></td><td style='border: 1px solid #ddd; padding: 8px;'></td><td style='border: 1px solid #ddd; padding: 8px;'></td><td style='border: 1px solid #ddd; padding: 8px;'></td></tr><tr><td style='border: 1px solid #ddd; padding: 8px;'>11:00</td><td style='border: 1px solid #ddd; padding: 8px;'></td><td style='border: 1px solid #ddd; padding: 8px;'><a href=\"https://clubspark.lta.org.uk/HackneyDowns/Booking/BookByDate#?date=2024-11-19&role=guest\" target=\"_blank\">£4.90</a></td><td style='border: 1px solid #ddd; padding: 8px;'></td><td style='border: 1px solid #ddd; padding: 8px;'></td><td style='border: 1px solid #ddd; padding: 8px;'></td><td style='border: 1px solid #ddd; padding: 8px;'></td><td style='border: 1px solid #ddd; padding: 8px;'></td></tr><tr><td style='border: 1px solid #ddd; padding: 8px;'>14:00</td><td style='border: 1px solid #ddd; padding: 8px;'></td><td style='border: 1px solid #ddd; padding: 8px;'><a href=\"https://clubspark.lta.org.uk/HackneyDowns/Booking/BookByDate#?date=2024-11-19&role=guest\" target=\"_blank\">£4.90</a></td><td style='border: 1px solid #ddd; padding: 8px;'><a href=\"https://clubspark.lta.org.uk/HackneyDowns/Booking/BookByDate#?date=2024-11-20&role=guest\" target=\"_blank\">£4.90</a></td><td style='border: 1px solid #ddd; padding: 8px;'></td><td style='border: 1px solid #ddd; padding: 8px;'></td><td style='border: 1px solid #ddd; padding: 8px;'></td><td style='border: 1px solid #ddd; padding: 8px;'></td></tr><tr><td style='border: 1px solid #ddd; padding: 8px;'>15:00</td><td style='border: 1px solid #ddd; padding: 8px;'></td><td style='border: 1px solid #ddd; padding: 8px;'><a href=\"https://clubspark.lta.org.uk/HackneyDowns/Booking/BookByDate#?date=2024-11-19&role=guest\" target=\"_blank\">£4.90</a></td><td style='border: 1px solid #ddd; padding: 8px;'><a href=\"https://clubspark.lta.org.uk/HackneyDowns/Booking/BookByDate#?date=2024-11-20&role=guest\" target=\"_blank\">£4.90</a></td><td style='border: 1px solid #ddd; padding: 8px;'><a href=\"https://clubspark.lta.org.uk/HackneyDowns/Booking/BookByDate#?date=2024-11-21&role=guest\" target=\"_blank\">£4.90</a></td><td style='border: 1px solid #ddd; padding: 8px;'><a href=\"https://clubspark.lta.org.uk/HackneyDowns/Booking/BookByDate#?date=2024-11-22&role=guest\" target=\"_blank\">£4.90</a></td><td style='border: 1px solid #ddd; padding: 8px;'></td><td style='border: 1px solid #ddd; padding: 8px;'></td></tr><tr><td style='border: 1px solid #ddd; padding: 8px;'>16:00</td><td style='border: 1px solid #ddd; padding: 8px;'></td><td style='border: 1px solid #ddd; padding: 8px;'><a href=\"https://clubspark.lta.org.uk/HackneyDowns/Booking/BookByDate#?date=2024-11-19&role=guest\" target=\"_blank\">£12.65</a></td><td style='border: 1px solid #ddd; padding: 8px;'></td><td style='border: 1px solid #ddd; padding: 8px;'></td><td style='border: 1px solid #ddd; padding: 8px;'></td><td style='border: 1px solid #ddd; padding: 8px;'></td><td style='border: 1px solid #ddd; padding: 8px;'></td></tr><tr><td style='border: 1px solid #ddd; padding: 8px;'>19:00</td><td style='border: 1px solid #ddd; padding: 8px;'></td><td style='border: 1px solid #ddd; padding: 8px;'></td><td style='border: 1px solid #ddd; padding: 8px;'></td><td style='border: 1px solid #ddd; padding: 8px;'></td><td style='border: 1px solid #ddd; padding: 8px;'><a href=\"https://clubspark.lta.org.uk/HackneyDowns/Booking/BookByDate#?date=2024-11-22&role=guest\" target=\"_blank\">£12.65</a></td><td style='border: 1px solid #ddd; padding: 8px;'></td><td style='border: 1px solid #ddd; padding: 8px;'></td></tr><tr><td style='border: 1px solid #ddd; padding: 8px;'>20:00</td><td style='border: 1px solid #ddd; padding: 8px;'></td><td style='border: 1px solid #ddd; padding: 8px;'></td><td style='border: 1px solid #ddd; padding: 8px;'></td><td style='border: 1px solid #ddd; padding: 8px;'></td><td style='border: 1px solid #ddd; padding: 8px;'><a href=\"https://clubspark.lta.org.uk/HackneyDowns/Booking/BookByDate#?date=2024-11-22&role=guest\" target=\"_blank\">£12.65</a></td><td style='border: 1px solid #ddd; padding: 8px;'><a href=\"https://clubspark.lta.org.uk/HackneyDowns/Booking/BookByDate#?date=2024-11-23&role=guest\" target=\"_blank\">£12.65</a></td><td style='border: 1px solid #ddd; padding: 8px;'><a href=\"https://clubspark.lta.org.uk/HackneyDowns/Booking/BookByDate#?date=2024-11-24&role=guest\" target=\"_blank\">£12.65</a></td></tr></tbody></table>"
      ],
      "text/plain": [
       "<IPython.core.display.HTML object>"
      ]
     },
     "metadata": {},
     "output_type": "display_data"
    },
    {
     "data": {
      "text/html": [
       "<h2 style='color:#A8E1D4;'>AskeGardens</h2>"
      ],
      "text/plain": [
       "<IPython.core.display.HTML object>"
      ]
     },
     "metadata": {},
     "output_type": "display_data"
    },
    {
     "data": {
      "text/html": [
       "<table style='border-collapse: collapse; width: 100%;'><thead><tr><th style='border: 1px solid #ddd; padding: 8px;'>Time Slot</th><th style='border: 1px solid #ddd; padding: 8px;'>Mon, Nov 18</th><th style='border: 1px solid #ddd; padding: 8px;'>Tue, Nov 19</th><th style='border: 1px solid #ddd; padding: 8px;'>Wed, Nov 20</th><th style='border: 1px solid #ddd; padding: 8px;'>Thu, Nov 21</th><th style='border: 1px solid #ddd; padding: 8px;'>Fri, Nov 22</th><th style='border: 1px solid #ddd; padding: 8px;'>Sat, Nov 23</th><th style='border: 1px solid #ddd; padding: 8px;'>Sun, Nov 24</th></tr></thead><tbody><tr><td style='border: 1px solid #ddd; padding: 8px;'>09:00</td><td style='border: 1px solid #ddd; padding: 8px;'></td><td style='border: 1px solid #ddd; padding: 8px;'></td><td style='border: 1px solid #ddd; padding: 8px;'></td><td style='border: 1px solid #ddd; padding: 8px;'></td><td style='border: 1px solid #ddd; padding: 8px;'></td><td style='border: 1px solid #ddd; padding: 8px;'></td><td style='border: 1px solid #ddd; padding: 8px;'><a href=\"https://clubspark.lta.org.uk/AskeGardens/Booking/BookByDate#?date=2024-11-24&role=guest\" target=\"_blank\">£7.45</a></td></tr></tbody></table>"
      ],
      "text/plain": [
       "<IPython.core.display.HTML object>"
      ]
     },
     "metadata": {},
     "output_type": "display_data"
    },
    {
     "data": {
      "text/html": [
       "<h2 style='color:#A8E1D4;'>MillfieldsParkMiddlesex</h2>"
      ],
      "text/plain": [
       "<IPython.core.display.HTML object>"
      ]
     },
     "metadata": {},
     "output_type": "display_data"
    },
    {
     "data": {
      "text/html": [
       "<table style='border-collapse: collapse; width: 100%;'><thead><tr><th style='border: 1px solid #ddd; padding: 8px;'>Time Slot</th><th style='border: 1px solid #ddd; padding: 8px;'>Mon, Nov 18</th><th style='border: 1px solid #ddd; padding: 8px;'>Tue, Nov 19</th><th style='border: 1px solid #ddd; padding: 8px;'>Wed, Nov 20</th><th style='border: 1px solid #ddd; padding: 8px;'>Thu, Nov 21</th><th style='border: 1px solid #ddd; padding: 8px;'>Fri, Nov 22</th><th style='border: 1px solid #ddd; padding: 8px;'>Sat, Nov 23</th><th style='border: 1px solid #ddd; padding: 8px;'>Sun, Nov 24</th></tr></thead><tbody><tr><td style='border: 1px solid #ddd; padding: 8px;'>08:00</td><td style='border: 1px solid #ddd; padding: 8px;'></td><td style='border: 1px solid #ddd; padding: 8px;'></td><td style='border: 1px solid #ddd; padding: 8px;'><a href=\"https://clubspark.lta.org.uk/MillfieldsParkMiddlesex/Booking/BookByDate#?date=2024-11-20&role=guest\" target=\"_blank\">£3.65</a></td><td style='border: 1px solid #ddd; padding: 8px;'><a href=\"https://clubspark.lta.org.uk/MillfieldsParkMiddlesex/Booking/BookByDate#?date=2024-11-21&role=guest\" target=\"_blank\">£3.65</a></td><td style='border: 1px solid #ddd; padding: 8px;'></td><td style='border: 1px solid #ddd; padding: 8px;'><a href=\"https://clubspark.lta.org.uk/MillfieldsParkMiddlesex/Booking/BookByDate#?date=2024-11-23&role=guest\" target=\"_blank\">£3.65</a></td><td style='border: 1px solid #ddd; padding: 8px;'><a href=\"https://clubspark.lta.org.uk/MillfieldsParkMiddlesex/Booking/BookByDate#?date=2024-11-24&role=guest\" target=\"_blank\">£3.65</a></td></tr><tr><td style='border: 1px solid #ddd; padding: 8px;'>09:00</td><td style='border: 1px solid #ddd; padding: 8px;'></td><td style='border: 1px solid #ddd; padding: 8px;'><a href=\"https://clubspark.lta.org.uk/MillfieldsParkMiddlesex/Booking/BookByDate#?date=2024-11-19&role=guest\" target=\"_blank\">£4.90</a></td><td style='border: 1px solid #ddd; padding: 8px;'><a href=\"https://clubspark.lta.org.uk/MillfieldsParkMiddlesex/Booking/BookByDate#?date=2024-11-20&role=guest\" target=\"_blank\">£4.90</a></td><td style='border: 1px solid #ddd; padding: 8px;'><a href=\"https://clubspark.lta.org.uk/MillfieldsParkMiddlesex/Booking/BookByDate#?date=2024-11-21&role=guest\" target=\"_blank\">£4.90</a></td><td style='border: 1px solid #ddd; padding: 8px;'><a href=\"https://clubspark.lta.org.uk/MillfieldsParkMiddlesex/Booking/BookByDate#?date=2024-11-22&role=guest\" target=\"_blank\">£4.90</a></td><td style='border: 1px solid #ddd; padding: 8px;'></td><td style='border: 1px solid #ddd; padding: 8px;'></td></tr><tr><td style='border: 1px solid #ddd; padding: 8px;'>10:00</td><td style='border: 1px solid #ddd; padding: 8px;'></td><td style='border: 1px solid #ddd; padding: 8px;'><a href=\"https://clubspark.lta.org.uk/MillfieldsParkMiddlesex/Booking/BookByDate#?date=2024-11-19&role=guest\" target=\"_blank\">£4.90</a></td><td style='border: 1px solid #ddd; padding: 8px;'><a href=\"https://clubspark.lta.org.uk/MillfieldsParkMiddlesex/Booking/BookByDate#?date=2024-11-20&role=guest\" target=\"_blank\">£4.90</a></td><td style='border: 1px solid #ddd; padding: 8px;'><a href=\"https://clubspark.lta.org.uk/MillfieldsParkMiddlesex/Booking/BookByDate#?date=2024-11-21&role=guest\" target=\"_blank\">£4.90</a></td><td style='border: 1px solid #ddd; padding: 8px;'><a href=\"https://clubspark.lta.org.uk/MillfieldsParkMiddlesex/Booking/BookByDate#?date=2024-11-22&role=guest\" target=\"_blank\">£4.90</a></td><td style='border: 1px solid #ddd; padding: 8px;'></td><td style='border: 1px solid #ddd; padding: 8px;'></td></tr><tr><td style='border: 1px solid #ddd; padding: 8px;'>11:00</td><td style='border: 1px solid #ddd; padding: 8px;'></td><td style='border: 1px solid #ddd; padding: 8px;'><a href=\"https://clubspark.lta.org.uk/MillfieldsParkMiddlesex/Booking/BookByDate#?date=2024-11-19&role=guest\" target=\"_blank\">£4.90</a></td><td style='border: 1px solid #ddd; padding: 8px;'><a href=\"https://clubspark.lta.org.uk/MillfieldsParkMiddlesex/Booking/BookByDate#?date=2024-11-20&role=guest\" target=\"_blank\">£4.90</a></td><td style='border: 1px solid #ddd; padding: 8px;'><a href=\"https://clubspark.lta.org.uk/MillfieldsParkMiddlesex/Booking/BookByDate#?date=2024-11-21&role=guest\" target=\"_blank\">£4.90</a></td><td style='border: 1px solid #ddd; padding: 8px;'><a href=\"https://clubspark.lta.org.uk/MillfieldsParkMiddlesex/Booking/BookByDate#?date=2024-11-22&role=guest\" target=\"_blank\">£4.90</a></td><td style='border: 1px solid #ddd; padding: 8px;'></td><td style='border: 1px solid #ddd; padding: 8px;'></td></tr><tr><td style='border: 1px solid #ddd; padding: 8px;'>12:00</td><td style='border: 1px solid #ddd; padding: 8px;'></td><td style='border: 1px solid #ddd; padding: 8px;'><a href=\"https://clubspark.lta.org.uk/MillfieldsParkMiddlesex/Booking/BookByDate#?date=2024-11-19&role=guest\" target=\"_blank\">£4.90</a></td><td style='border: 1px solid #ddd; padding: 8px;'><a href=\"https://clubspark.lta.org.uk/MillfieldsParkMiddlesex/Booking/BookByDate#?date=2024-11-20&role=guest\" target=\"_blank\">£4.90</a></td><td style='border: 1px solid #ddd; padding: 8px;'><a href=\"https://clubspark.lta.org.uk/MillfieldsParkMiddlesex/Booking/BookByDate#?date=2024-11-21&role=guest\" target=\"_blank\">£4.90</a></td><td style='border: 1px solid #ddd; padding: 8px;'><a href=\"https://clubspark.lta.org.uk/MillfieldsParkMiddlesex/Booking/BookByDate#?date=2024-11-22&role=guest\" target=\"_blank\">£4.90</a></td><td style='border: 1px solid #ddd; padding: 8px;'></td><td style='border: 1px solid #ddd; padding: 8px;'></td></tr><tr><td style='border: 1px solid #ddd; padding: 8px;'>13:00</td><td style='border: 1px solid #ddd; padding: 8px;'></td><td style='border: 1px solid #ddd; padding: 8px;'><a href=\"https://clubspark.lta.org.uk/MillfieldsParkMiddlesex/Booking/BookByDate#?date=2024-11-19&role=guest\" target=\"_blank\">£4.90</a></td><td style='border: 1px solid #ddd; padding: 8px;'><a href=\"https://clubspark.lta.org.uk/MillfieldsParkMiddlesex/Booking/BookByDate#?date=2024-11-20&role=guest\" target=\"_blank\">£4.90</a></td><td style='border: 1px solid #ddd; padding: 8px;'><a href=\"https://clubspark.lta.org.uk/MillfieldsParkMiddlesex/Booking/BookByDate#?date=2024-11-21&role=guest\" target=\"_blank\">£4.90</a></td><td style='border: 1px solid #ddd; padding: 8px;'><a href=\"https://clubspark.lta.org.uk/MillfieldsParkMiddlesex/Booking/BookByDate#?date=2024-11-22&role=guest\" target=\"_blank\">£4.90</a></td><td style='border: 1px solid #ddd; padding: 8px;'></td><td style='border: 1px solid #ddd; padding: 8px;'></td></tr><tr><td style='border: 1px solid #ddd; padding: 8px;'>14:00</td><td style='border: 1px solid #ddd; padding: 8px;'></td><td style='border: 1px solid #ddd; padding: 8px;'><a href=\"https://clubspark.lta.org.uk/MillfieldsParkMiddlesex/Booking/BookByDate#?date=2024-11-19&role=guest\" target=\"_blank\">£4.90</a></td><td style='border: 1px solid #ddd; padding: 8px;'><a href=\"https://clubspark.lta.org.uk/MillfieldsParkMiddlesex/Booking/BookByDate#?date=2024-11-20&role=guest\" target=\"_blank\">£4.90</a></td><td style='border: 1px solid #ddd; padding: 8px;'><a href=\"https://clubspark.lta.org.uk/MillfieldsParkMiddlesex/Booking/BookByDate#?date=2024-11-21&role=guest\" target=\"_blank\">£4.90</a></td><td style='border: 1px solid #ddd; padding: 8px;'><a href=\"https://clubspark.lta.org.uk/MillfieldsParkMiddlesex/Booking/BookByDate#?date=2024-11-22&role=guest\" target=\"_blank\">£4.90</a></td><td style='border: 1px solid #ddd; padding: 8px;'></td><td style='border: 1px solid #ddd; padding: 8px;'></td></tr><tr><td style='border: 1px solid #ddd; padding: 8px;'>15:00</td><td style='border: 1px solid #ddd; padding: 8px;'></td><td style='border: 1px solid #ddd; padding: 8px;'><a href=\"https://clubspark.lta.org.uk/MillfieldsParkMiddlesex/Booking/BookByDate#?date=2024-11-19&role=guest\" target=\"_blank\">£4.90</a></td><td style='border: 1px solid #ddd; padding: 8px;'><a href=\"https://clubspark.lta.org.uk/MillfieldsParkMiddlesex/Booking/BookByDate#?date=2024-11-20&role=guest\" target=\"_blank\">£4.90</a></td><td style='border: 1px solid #ddd; padding: 8px;'><a href=\"https://clubspark.lta.org.uk/MillfieldsParkMiddlesex/Booking/BookByDate#?date=2024-11-21&role=guest\" target=\"_blank\">£4.90</a></td><td style='border: 1px solid #ddd; padding: 8px;'><a href=\"https://clubspark.lta.org.uk/MillfieldsParkMiddlesex/Booking/BookByDate#?date=2024-11-22&role=guest\" target=\"_blank\">£4.90</a></td><td style='border: 1px solid #ddd; padding: 8px;'></td><td style='border: 1px solid #ddd; padding: 8px;'><a href=\"https://clubspark.lta.org.uk/MillfieldsParkMiddlesex/Booking/BookByDate#?date=2024-11-24&role=guest\" target=\"_blank\">£7.45</a></td></tr></tbody></table>"
      ],
      "text/plain": [
       "<IPython.core.display.HTML object>"
      ]
     },
     "metadata": {},
     "output_type": "display_data"
    },
    {
     "data": {
      "text/html": [
       "<h2 style='color:#A8E1D4;'>SpringHillParkTennis</h2>"
      ],
      "text/plain": [
       "<IPython.core.display.HTML object>"
      ]
     },
     "metadata": {},
     "output_type": "display_data"
    },
    {
     "data": {
      "text/html": [
       "<table style='border-collapse: collapse; width: 100%;'><thead><tr><th style='border: 1px solid #ddd; padding: 8px;'>Time Slot</th><th style='border: 1px solid #ddd; padding: 8px;'>Mon, Nov 18</th><th style='border: 1px solid #ddd; padding: 8px;'>Tue, Nov 19</th><th style='border: 1px solid #ddd; padding: 8px;'>Wed, Nov 20</th><th style='border: 1px solid #ddd; padding: 8px;'>Thu, Nov 21</th><th style='border: 1px solid #ddd; padding: 8px;'>Fri, Nov 22</th><th style='border: 1px solid #ddd; padding: 8px;'>Sat, Nov 23</th><th style='border: 1px solid #ddd; padding: 8px;'>Sun, Nov 24</th></tr></thead><tbody><tr><td style='border: 1px solid #ddd; padding: 8px;'>08:00</td><td style='border: 1px solid #ddd; padding: 8px;'></td><td style='border: 1px solid #ddd; padding: 8px;'><a href=\"https://clubspark.lta.org.uk/SpringHillParkTennis/Booking/BookByDate#?date=2024-11-19&role=guest\" target=\"_blank\">£3.65</a></td><td style='border: 1px solid #ddd; padding: 8px;'><a href=\"https://clubspark.lta.org.uk/SpringHillParkTennis/Booking/BookByDate#?date=2024-11-20&role=guest\" target=\"_blank\">£3.65</a></td><td style='border: 1px solid #ddd; padding: 8px;'><a href=\"https://clubspark.lta.org.uk/SpringHillParkTennis/Booking/BookByDate#?date=2024-11-21&role=guest\" target=\"_blank\">£3.65</a></td><td style='border: 1px solid #ddd; padding: 8px;'><a href=\"https://clubspark.lta.org.uk/SpringHillParkTennis/Booking/BookByDate#?date=2024-11-22&role=guest\" target=\"_blank\">£3.65</a></td><td style='border: 1px solid #ddd; padding: 8px;'><a href=\"https://clubspark.lta.org.uk/SpringHillParkTennis/Booking/BookByDate#?date=2024-11-23&role=guest\" target=\"_blank\">£3.65</a></td><td style='border: 1px solid #ddd; padding: 8px;'><a href=\"https://clubspark.lta.org.uk/SpringHillParkTennis/Booking/BookByDate#?date=2024-11-24&role=guest\" target=\"_blank\">£3.65</a></td></tr><tr><td style='border: 1px solid #ddd; padding: 8px;'>09:00</td><td style='border: 1px solid #ddd; padding: 8px;'></td><td style='border: 1px solid #ddd; padding: 8px;'><a href=\"https://clubspark.lta.org.uk/SpringHillParkTennis/Booking/BookByDate#?date=2024-11-19&role=guest\" target=\"_blank\">£4.90</a></td><td style='border: 1px solid #ddd; padding: 8px;'><a href=\"https://clubspark.lta.org.uk/SpringHillParkTennis/Booking/BookByDate#?date=2024-11-20&role=guest\" target=\"_blank\">£4.90</a></td><td style='border: 1px solid #ddd; padding: 8px;'><a href=\"https://clubspark.lta.org.uk/SpringHillParkTennis/Booking/BookByDate#?date=2024-11-21&role=guest\" target=\"_blank\">£4.90</a></td><td style='border: 1px solid #ddd; padding: 8px;'><a href=\"https://clubspark.lta.org.uk/SpringHillParkTennis/Booking/BookByDate#?date=2024-11-22&role=guest\" target=\"_blank\">£4.90</a></td><td style='border: 1px solid #ddd; padding: 8px;'><a href=\"https://clubspark.lta.org.uk/SpringHillParkTennis/Booking/BookByDate#?date=2024-11-23&role=guest\" target=\"_blank\">£7.45</a></td><td style='border: 1px solid #ddd; padding: 8px;'></td></tr><tr><td style='border: 1px solid #ddd; padding: 8px;'>10:00</td><td style='border: 1px solid #ddd; padding: 8px;'></td><td style='border: 1px solid #ddd; padding: 8px;'><a href=\"https://clubspark.lta.org.uk/SpringHillParkTennis/Booking/BookByDate#?date=2024-11-19&role=guest\" target=\"_blank\">£4.90</a></td><td style='border: 1px solid #ddd; padding: 8px;'><a href=\"https://clubspark.lta.org.uk/SpringHillParkTennis/Booking/BookByDate#?date=2024-11-20&role=guest\" target=\"_blank\">£4.90</a></td><td style='border: 1px solid #ddd; padding: 8px;'><a href=\"https://clubspark.lta.org.uk/SpringHillParkTennis/Booking/BookByDate#?date=2024-11-21&role=guest\" target=\"_blank\">£4.90</a></td><td style='border: 1px solid #ddd; padding: 8px;'><a href=\"https://clubspark.lta.org.uk/SpringHillParkTennis/Booking/BookByDate#?date=2024-11-22&role=guest\" target=\"_blank\">£4.90</a></td><td style='border: 1px solid #ddd; padding: 8px;'></td><td style='border: 1px solid #ddd; padding: 8px;'></td></tr><tr><td style='border: 1px solid #ddd; padding: 8px;'>11:00</td><td style='border: 1px solid #ddd; padding: 8px;'></td><td style='border: 1px solid #ddd; padding: 8px;'><a href=\"https://clubspark.lta.org.uk/SpringHillParkTennis/Booking/BookByDate#?date=2024-11-19&role=guest\" target=\"_blank\">£4.90</a></td><td style='border: 1px solid #ddd; padding: 8px;'><a href=\"https://clubspark.lta.org.uk/SpringHillParkTennis/Booking/BookByDate#?date=2024-11-20&role=guest\" target=\"_blank\">£4.90</a></td><td style='border: 1px solid #ddd; padding: 8px;'><a href=\"https://clubspark.lta.org.uk/SpringHillParkTennis/Booking/BookByDate#?date=2024-11-21&role=guest\" target=\"_blank\">£4.90</a></td><td style='border: 1px solid #ddd; padding: 8px;'><a href=\"https://clubspark.lta.org.uk/SpringHillParkTennis/Booking/BookByDate#?date=2024-11-22&role=guest\" target=\"_blank\">£4.90</a></td><td style='border: 1px solid #ddd; padding: 8px;'></td><td style='border: 1px solid #ddd; padding: 8px;'></td></tr><tr><td style='border: 1px solid #ddd; padding: 8px;'>12:00</td><td style='border: 1px solid #ddd; padding: 8px;'></td><td style='border: 1px solid #ddd; padding: 8px;'><a href=\"https://clubspark.lta.org.uk/SpringHillParkTennis/Booking/BookByDate#?date=2024-11-19&role=guest\" target=\"_blank\">£4.90</a></td><td style='border: 1px solid #ddd; padding: 8px;'><a href=\"https://clubspark.lta.org.uk/SpringHillParkTennis/Booking/BookByDate#?date=2024-11-20&role=guest\" target=\"_blank\">£4.90</a></td><td style='border: 1px solid #ddd; padding: 8px;'><a href=\"https://clubspark.lta.org.uk/SpringHillParkTennis/Booking/BookByDate#?date=2024-11-21&role=guest\" target=\"_blank\">£4.90</a></td><td style='border: 1px solid #ddd; padding: 8px;'><a href=\"https://clubspark.lta.org.uk/SpringHillParkTennis/Booking/BookByDate#?date=2024-11-22&role=guest\" target=\"_blank\">£4.90</a></td><td style='border: 1px solid #ddd; padding: 8px;'></td><td style='border: 1px solid #ddd; padding: 8px;'></td></tr><tr><td style='border: 1px solid #ddd; padding: 8px;'>13:00</td><td style='border: 1px solid #ddd; padding: 8px;'></td><td style='border: 1px solid #ddd; padding: 8px;'><a href=\"https://clubspark.lta.org.uk/SpringHillParkTennis/Booking/BookByDate#?date=2024-11-19&role=guest\" target=\"_blank\">£4.90</a></td><td style='border: 1px solid #ddd; padding: 8px;'><a href=\"https://clubspark.lta.org.uk/SpringHillParkTennis/Booking/BookByDate#?date=2024-11-20&role=guest\" target=\"_blank\">£4.90</a></td><td style='border: 1px solid #ddd; padding: 8px;'><a href=\"https://clubspark.lta.org.uk/SpringHillParkTennis/Booking/BookByDate#?date=2024-11-21&role=guest\" target=\"_blank\">£4.90</a></td><td style='border: 1px solid #ddd; padding: 8px;'><a href=\"https://clubspark.lta.org.uk/SpringHillParkTennis/Booking/BookByDate#?date=2024-11-22&role=guest\" target=\"_blank\">£4.90</a></td><td style='border: 1px solid #ddd; padding: 8px;'></td><td style='border: 1px solid #ddd; padding: 8px;'></td></tr><tr><td style='border: 1px solid #ddd; padding: 8px;'>14:00</td><td style='border: 1px solid #ddd; padding: 8px;'></td><td style='border: 1px solid #ddd; padding: 8px;'><a href=\"https://clubspark.lta.org.uk/SpringHillParkTennis/Booking/BookByDate#?date=2024-11-19&role=guest\" target=\"_blank\">£4.90</a></td><td style='border: 1px solid #ddd; padding: 8px;'><a href=\"https://clubspark.lta.org.uk/SpringHillParkTennis/Booking/BookByDate#?date=2024-11-20&role=guest\" target=\"_blank\">£4.90</a></td><td style='border: 1px solid #ddd; padding: 8px;'><a href=\"https://clubspark.lta.org.uk/SpringHillParkTennis/Booking/BookByDate#?date=2024-11-21&role=guest\" target=\"_blank\">£4.90</a></td><td style='border: 1px solid #ddd; padding: 8px;'><a href=\"https://clubspark.lta.org.uk/SpringHillParkTennis/Booking/BookByDate#?date=2024-11-22&role=guest\" target=\"_blank\">£4.90</a></td><td style='border: 1px solid #ddd; padding: 8px;'></td><td style='border: 1px solid #ddd; padding: 8px;'></td></tr><tr><td style='border: 1px solid #ddd; padding: 8px;'>15:00</td><td style='border: 1px solid #ddd; padding: 8px;'></td><td style='border: 1px solid #ddd; padding: 8px;'><a href=\"https://clubspark.lta.org.uk/SpringHillParkTennis/Booking/BookByDate#?date=2024-11-19&role=guest\" target=\"_blank\">£4.90</a></td><td style='border: 1px solid #ddd; padding: 8px;'><a href=\"https://clubspark.lta.org.uk/SpringHillParkTennis/Booking/BookByDate#?date=2024-11-20&role=guest\" target=\"_blank\">£4.90</a></td><td style='border: 1px solid #ddd; padding: 8px;'><a href=\"https://clubspark.lta.org.uk/SpringHillParkTennis/Booking/BookByDate#?date=2024-11-21&role=guest\" target=\"_blank\">£4.90</a></td><td style='border: 1px solid #ddd; padding: 8px;'><a href=\"https://clubspark.lta.org.uk/SpringHillParkTennis/Booking/BookByDate#?date=2024-11-22&role=guest\" target=\"_blank\">£4.90</a></td><td style='border: 1px solid #ddd; padding: 8px;'></td><td style='border: 1px solid #ddd; padding: 8px;'></td></tr></tbody></table>"
      ],
      "text/plain": [
       "<IPython.core.display.HTML object>"
      ]
     },
     "metadata": {},
     "output_type": "display_data"
    }
   ],
   "source": [
    "from selenium import webdriver\n",
    "from selenium.webdriver.common.by import By\n",
    "from selenium.webdriver.chrome.service import Service\n",
    "from selenium.webdriver.chrome.options import Options\n",
    "from webdriver_manager.chrome import ChromeDriverManager\n",
    "from selenium.webdriver.support.ui import WebDriverWait\n",
    "from selenium.webdriver.support import expected_conditions as EC\n",
    "from datetime import datetime, timedelta\n",
    "from selenium.common.exceptions import StaleElementReferenceException, TimeoutException\n",
    "import time\n",
    "from prettytable import PrettyTable\n",
    "from IPython.display import display, HTML\n",
    "import json\n",
    "import os\n",
    "\n",
    "# Array of parks to cycle through\n",
    "parks = [\n",
    "    \"LondonFieldsPark\",\n",
    "    \"ClissoldParkHackney\",\n",
    "    \"HackneyDowns\",\n",
    "    \"AskeGardens\",\n",
    "    \"MillfieldsParkMiddlesex\",\n",
    "    \"SpringHillParkTennis\"\n",
    "]\n",
    "\n",
    "# Function to get the date for a specific number of days in the future in full date and month name and day and day of week\n",
    "def get_future_date(days_from_now):\n",
    "    date = (datetime.today() + timedelta(days=days_from_now))\n",
    "    return date.strftime('%Y-%m-%d')\n",
    "\n",
    "# Set up Chrome options\n",
    "chrome_options = Options()\n",
    "chrome_options.add_argument(\"--headless\")  # Run Chrome in headless mode\n",
    "chrome_options.add_argument(\"--no-sandbox\")  # Bypass OS security model\n",
    "chrome_options.add_argument(\"--disable-dev-shm-usage\")  # Overcome limited resource problems\n",
    "\n",
    "# Initialize the WebDriver\n",
    "driver = webdriver.Chrome(service=Service(ChromeDriverManager().install()), options=chrome_options)\n",
    "\n",
    "# Dictionary to store results {park: {date: [available slots]}}\n",
    "park_data = {}\n",
    "\n",
    "try:\n",
    "    for park in parks:\n",
    "        park_data[park] = {}  # Initialize the dictionary for the park\n",
    "        \n",
    "        for day in range(7):  # Iterate from today (0) to the next 6 days (6)\n",
    "            # Get the date for today and the next 6 days\n",
    "            date_str = get_future_date(day) #for input in the URL and eventually output html\n",
    "            url = f\"https://clubspark.lta.org.uk/{park}/Booking/BookByDate#?date={date_str}&role=guest\"\n",
    "            driver.get(url)\n",
    "            time.sleep(1)\n",
    "    \n",
    "            # Wait for the element to be present\n",
    "            wait = WebDriverWait(driver, 20)  # Increased wait time\n",
    "    \n",
    "            try:\n",
    "                # Wait for the date header to appear\n",
    "                date_element = wait.until(EC.visibility_of_element_located((By.CLASS_NAME, 'pull-left')))\n",
    "    \n",
    "                while True:\n",
    "                    try:\n",
    "                        # Locate the table with class 'booking-sheet clearfix'\n",
    "                        table = wait.until(EC.visibility_of_element_located((By.CLASS_NAME, 'booking-sheet.clearfix')))\n",
    "                        \n",
    "                        # Locate all cells with the class 'book-interval not-booked'\n",
    "                        not_booked_cells = table.find_elements(By.CLASS_NAME, 'book-interval.not-booked')\n",
    "\n",
    "                        # Initialize an empty list for storing available slots for this day\n",
    "                        park_data[park][date_str] = []\n",
    "\n",
    "                        if not_booked_cells:\n",
    "                            for cell in not_booked_cells:\n",
    "                                available_slot_element = cell.find_element(By.CLASS_NAME, 'available-booking-slot')\n",
    "                                available_slot_inner_html = available_slot_element.get_attribute('innerHTML').strip()\n",
    "                                \n",
    "                                cost_element = cell.find_element(By.CLASS_NAME, 'cost')\n",
    "                                cost_text = cost_element.text.strip()\n",
    "\n",
    "                                # Only append non-free and non-empty slots\n",
    "                                if cost_text and cost_text.lower() != \"free\":\n",
    "                                    park_data[park][date_str].append(f\"{available_slot_inner_html} (Cost: {cost_text}) (URL: {url})\")\n",
    "    \n",
    "                        break  # Exit loop if successful\n",
    "                    except StaleElementReferenceException:\n",
    "                        print(\"Encountered stale element reference, retrying...\")\n",
    "                        time.sleep(1)\n",
    "    \n",
    "            except TimeoutException:\n",
    "                print(\"Element not found within the given time.\")\n",
    "\n",
    "finally:\n",
    "    driver.quit()  # Close the driver when done\n",
    "\n",
    "# Helper function to extract the time slot and cost from slot text\n",
    "def extract_time_cost_and_url(slot_text):\n",
    "    try:\n",
    "        time_part = slot_text.split(' ')[2]  # Extract '09:00 - 10:00'\n",
    "        cost_part = slot_text.split('(Cost: ')[1].split(')')[0]  # Extract '£3.65'\n",
    "        url_part = slot_text.split('(URL: ')[1].replace(')', '')  # Extract URL\n",
    "        return time_part, cost_part, url_part\n",
    "    except IndexError:\n",
    "        return None, None, None\n",
    "\n",
    "# Save the park_data dictionary to a JSON file only if the file does not already exist\n",
    "if not os.path.exists(\"park_data.json\"):\n",
    "    try:\n",
    "        with open(\"park_data.json\", \"w\") as file:\n",
    "            json.dump(park_data, file, indent=4)\n",
    "    except Exception as e:\n",
    "        print(f\"Error saving park_data: {e}\")\n",
    "\n",
    "#Function to load and compare slots for updated availability\n",
    "def load_and_compare_slots(file_path, live_data):\n",
    "    \"\"\"\n",
    "    Loads saved booking slots from a file, compares them with live booking slots, \n",
    "    and returns a dictionary of new booking slots.\n",
    "    \n",
    "    Parameters:\n",
    "        file_path (str): Path to the JSON file storing the previous booking slots.\n",
    "        live_data (dict): Live booking slots data fetched from the website.\n",
    "    \n",
    "    Returns:\n",
    "        dict: Dictionary containing new booking slots that were not in the saved file.\n",
    "    \"\"\"\n",
    "    try:\n",
    "        # Load the previously saved slots from the file\n",
    "        with open(file_path, 'r') as file:\n",
    "            saved_data = json.load(file)\n",
    "    except FileNotFoundError:\n",
    "        # If the file doesn't exist, assume there are no saved slots\n",
    "        saved_data = {}\n",
    "\n",
    "    # Compare live data with saved data\n",
    "    new_slots = {}\n",
    "    for location, dates in live_data.items():\n",
    "        new_slots[location] = {}\n",
    "        for date, slots in dates.items():\n",
    "            # If the date exists in saved data, find new slots\n",
    "            if location in saved_data and date in saved_data[location]:\n",
    "                # Find the slots that are in live data but not in saved data\n",
    "                new_slots[location][date] = [\n",
    "                    slot for slot in slots if slot not in saved_data[location][date]\n",
    "                ]\n",
    "            else:\n",
    "                # If the location or date doesn't exist in saved data, all slots are new\n",
    "                new_slots[location][date] = slots\n",
    "\n",
    "    # Remove empty entries (no new slots for a location/date)\n",
    "    new_slots = {\n",
    "        location: {date: slots for date, slots in dates.items() if slots}\n",
    "        for location, dates in new_slots.items()\n",
    "        if any(dates.values())\n",
    "    }\n",
    "\n",
    "    return new_slots\n",
    "\n",
    "# Output the updated availability\n",
    "availability_updates = load_and_compare_slots(\"park_data.json\",park_data)\n",
    "\n",
    "# Write the updates to a new file IF there are updates (check if updates dictionary is empty)\n",
    "# If not any updates, try and delete any old availability json file in the folder, so we don't send a redundant email (based on logic in other files) \n",
    "# First, check if the output is not empty\n",
    "if availability_updates:  # This checks if the dictionary is not empty\n",
    "    try:\n",
    "        with open(\"availability_updates.html\", \"w\") as file:\n",
    "            #write the json data to the file in html to be emailed later\n",
    "            for park, dates in availability_updates.items():\n",
    "                # Write the park name to the HTML file\n",
    "                file.write(f\"<h2 style='color:#A8E1D4;'>{park}</h2>\")  # Add park name in color\n",
    "        \n",
    "                # Start constructing the HTML table for this park\n",
    "                html_table = \"<table style='border-collapse: collapse; width: 100%;'><thead><tr>\"\n",
    "                html_table += \"<th style='border: 1px solid #ddd; padding: 8px;'>Time Slot</th>\"\n",
    "        \n",
    "                # Add the date headers to the table\n",
    "                date_headers = list(dates.keys())\n",
    "                for date in date_headers:\n",
    "                    # Convert string to a datetime object\n",
    "                    date_obj = datetime.strptime(date, '%Y-%m-%d')\n",
    "        \n",
    "                    # Format to \"Day of Week, Month Day\"\n",
    "                    formatted_date = date_obj.strftime('%a, %b %d')\n",
    "        \n",
    "                    html_table += f\"<th style='border: 1px solid #ddd; padding: 8px;'>{formatted_date}</th>\"\n",
    "                html_table += \"</tr></thead><tbody>\"\n",
    "        \n",
    "                # Collect unique time slots\n",
    "                unique_times = set()\n",
    "                for slots in dates.values():\n",
    "                    for slot in slots:\n",
    "                        time, _, _ = extract_time_cost_and_url(slot)\n",
    "                        if time:\n",
    "                            unique_times.add(time)\n",
    "        \n",
    "                # Populate the rows using the unique time slots\n",
    "                sorted_unique_times = sorted(list(unique_times))\n",
    "                for time_slot in sorted_unique_times:\n",
    "                    html_table += \"<tr>\"\n",
    "                    html_table += f\"<td style='border: 1px solid #ddd; padding: 8px;'>{time_slot}</td>\"  # Time slot column\n",
    "                    for date in date_headers:\n",
    "                        found = False  # Track if a matching time slot is found for the current date\n",
    "                        for slot in dates[date]:\n",
    "                            time, cost, unique_url = extract_time_cost_and_url(slot)\n",
    "                            if time == time_slot:\n",
    "                                cost_link = f'<a href=\"{unique_url}\" target=\"_blank\">{cost}</a>'\n",
    "                                html_table += f\"<td style='border: 1px solid #ddd; padding: 8px;'>{cost_link}</td>\"\n",
    "                                found = True\n",
    "                                break\n",
    "                        if not found:\n",
    "                            html_table += \"<td style='border: 1px solid #ddd; padding: 8px;'></td>\"  # Empty if no slot for that time on that date\n",
    "                    html_table += \"</tr>\"\n",
    "        \n",
    "                html_table += \"</tbody></table>\"\n",
    "        \n",
    "                # Write the constructed table HTML to the file\n",
    "                file.write(html_table)\n",
    "            \n",
    "    except Exception as e:\n",
    "        print(f\"Error saving availability updates: {e}\")\n",
    "else:\n",
    "    # If there is no update, try deleting the file\n",
    "    if os.path.exists(\"availability_updates.html\"):\n",
    "        try:\n",
    "            os.remove(\"availability_updates.html\")\n",
    "        except Exception as e:\n",
    "            print(f\"Error deleting 'availability_updates.html': {e}\")\n",
    "\n",
    "\n",
    "# Open the output file in append mode\n",
    "with open(\"output.html\", \"a\") as f:\n",
    "    # Loop through each park to generate HTML\n",
    "    for park, dates in park_data.items():\n",
    "        # Write the park name to the HTML file\n",
    "        f.write(f\"<h2 style='color:#A8E1D4;'>{park}</h2>\")  # Add park name in color\n",
    "\n",
    "        # Start constructing the HTML table for this park\n",
    "        html_table = \"<table style='border-collapse: collapse; width: 100%;'><thead><tr>\"\n",
    "        html_table += \"<th style='border: 1px solid #ddd; padding: 8px;'>Time Slot</th>\"\n",
    "\n",
    "        # Add the date headers to the table\n",
    "        date_headers = list(dates.keys())\n",
    "        for date in date_headers:\n",
    "            # Convert string to a datetime object\n",
    "            date_obj = datetime.strptime(date, '%Y-%m-%d')\n",
    "\n",
    "            # Format to \"Day of Week, Month Day\"\n",
    "            formatted_date = date_obj.strftime('%a, %b %d')\n",
    "\n",
    "            html_table += f\"<th style='border: 1px solid #ddd; padding: 8px;'>{formatted_date}</th>\"\n",
    "        html_table += \"</tr></thead><tbody>\"\n",
    "\n",
    "        # Collect unique time slots\n",
    "        unique_times = set()\n",
    "        for slots in dates.values():\n",
    "            for slot in slots:\n",
    "                time, _, _ = extract_time_cost_and_url(slot)\n",
    "                if time:\n",
    "                    unique_times.add(time)\n",
    "\n",
    "        # Populate the rows using the unique time slots\n",
    "        sorted_unique_times = sorted(list(unique_times))\n",
    "        for time_slot in sorted_unique_times:\n",
    "            html_table += \"<tr>\"\n",
    "            html_table += f\"<td style='border: 1px solid #ddd; padding: 8px;'>{time_slot}</td>\"  # Time slot column\n",
    "            for date in date_headers:\n",
    "                found = False  # Track if a matching time slot is found for the current date\n",
    "                for slot in dates[date]:\n",
    "                    time, cost, unique_url = extract_time_cost_and_url(slot)\n",
    "                    if time == time_slot:\n",
    "                        cost_link = f'<a href=\"{unique_url}\" target=\"_blank\">{cost}</a>'\n",
    "                        html_table += f\"<td style='border: 1px solid #ddd; padding: 8px;'>{cost_link}</td>\"\n",
    "                        found = True\n",
    "                        break\n",
    "                if not found:\n",
    "                    html_table += \"<td style='border: 1px solid #ddd; padding: 8px;'></td>\"  # Empty if no slot for that time on that date\n",
    "            html_table += \"</tr>\"\n",
    "\n",
    "        html_table += \"</tbody></table>\"\n",
    "\n",
    "        # Write the constructed table HTML to the file\n",
    "        f.write(html_table)\n",
    "\n",
    "#after the comparison has been made, replace the park_data.json file with the new availability\n",
    "try:\n",
    "    with open(\"park_data.json\", \"w\") as file:\n",
    "        json.dump(park_data, file, indent=4)\n",
    "except Exception as e:\n",
    "    print(f\"Error saving park_data: {e}\")"
   ]
  },
  {
   "cell_type": "code",
   "execution_count": null,
   "id": "bab6c4ab-617c-4b03-9097-f0872b33719d",
   "metadata": {},
   "outputs": [],
   "source": []
  }
 ],
 "metadata": {
  "kernelspec": {
   "display_name": "Python 3 (ipykernel)",
   "language": "python",
   "name": "python3"
  },
  "language_info": {
   "codemirror_mode": {
    "name": "ipython",
    "version": 3
   },
   "file_extension": ".py",
   "mimetype": "text/x-python",
   "name": "python",
   "nbconvert_exporter": "python",
   "pygments_lexer": "ipython3",
   "version": "3.12.4"
  }
 },
 "nbformat": 4,
 "nbformat_minor": 5
}
